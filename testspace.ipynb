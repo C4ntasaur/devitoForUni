{
 "cells": [
  {
   "cell_type": "code",
   "execution_count": null,
   "id": "f0f6ae4f",
   "metadata": {
    "vscode": {
     "languageId": "plaintext"
    }
   },
   "outputs": [],
   "source": [
    "import numpy as np\n",
    "import matplotlib.pyplot as plt\n",
    "from examples.seismic import demo_model, plot_velocity, plot_perturbation\n",
    "from devito import configuration\n",
    "from examples.seismic import AcquisitionGeometry\n",
    "from examples.seismic.acoustic import AcousticWaveSolver\n",
    "from devito import Eq, Operator\n",
    "from devito import Function, TimeFunction, norm\n",
    "from examples.seismic import Receiver\n",
    "\n",
    "import scipy\n",
    "from devito import mmax\n",
    "from examples.seismic import plot_image"
   ]
  }
 ],
 "metadata": {
  "language_info": {
   "name": "python"
  }
 },
 "nbformat": 4,
 "nbformat_minor": 5
}
