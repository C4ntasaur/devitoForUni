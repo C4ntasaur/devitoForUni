{
 "cells": [
  {
   "cell_type": "markdown",
   "metadata": {},
   "source": [
    "# Lecture 5 - Finite differences and an introduction to Devito\n",
    "\n",
    "## Forward (and backward) modelling\n",
    "\n",
    "In introducing the FWI workflow in lecture 3, it's clear that modelling the propagation of waves in the medium (we are imaging) is a fundamental part of the algorithm. For this modelling, a whole range of wave-equations (isotropic-acoustic, elastic, viscoelastic, anisotropic-viscoacoustic etc. etc.) and numerical techniques (Finite difference, finite (spectral) element) are available.\n",
    "\n",
    "Which choices are 'better' depends on a huge number of factors:\n",
    "- What problem are we solving?\n",
    "- How good is our field/lab data and what information does it contain?\n",
    "- How big is our computer/How much time/money do we have? i.e. What computational resources are available?\n",
    "- What codes do we have?\n",
    "\n",
    "For the purpose of todays lecture, we'll focus on solving the isotropic acoustic wave-equation via the finite difference method. To build our wave-propagator we'll utilize the domain specific language **Devito**."
   ]
  },
  {
   "cell_type": "markdown",
   "metadata": {},
   "source": [
    "## What is a domain specific language (DSL) and what is Devito?\n",
    "\n",
    "From [Wikipedia](https://en.wikipedia.org/wiki/Domain-specific_language):\n",
    "\n",
    "*A domain-specific language (DSL) is a computer language specialized to a particular application domain. This is in contrast to a general-purpose language (GPL), which is broadly applicable across domains. There are a wide variety of DSLs, ranging from widely used languages for common domains, such as HTML for web pages, down to languages used by only one or a few pieces of software, such as MUSH soft code. DSLs can be further subdivided by the kind of language, and include domain-specific markup languages, domain-specific modeling languages (more generally, specification languages), and domain-specific programming languages. Special-purpose computer languages have always existed in the computer age, but the term \"domain-specific language\" has become more popular due to the rise of domain-specific modeling. Simpler DSLs, particularly ones used by a single application, are sometimes informally called mini-languages.*\n",
    "\n",
    "Devito for example, is a DSL designed for solving partial differential equations via the finite difference method (or more generally performing stencil based computations on structured grids). A few more bits of information re. Devito:\n",
    "- Devito is an [open source](https://github.com/devitocodes/devito) developed in the Department of Earth Science and Engineering at Imperial College.\n",
    "- It is in fact a DSL and **compiler**:\n",
    " - The DSL heavily subclasses (makes lots of use of) `SymPy` and the compiler *converts* the symbolic specification of the mathematics problem into optimized c-code.\n",
    "- Devito can compile c-code suitable for use on Super-computers and GPUs out of the box.\n",
    "\n",
    "Before talking about anything more, lets dive in and see Devito in action.\n",
    "\n",
    "## Introduction to the Devito DSL (and finite differences)\n",
    "\n",
    "For convenience, we import all Devito modules:"
   ]
  },
  {
   "cell_type": "code",
   "execution_count": 343,
   "metadata": {},
   "outputs": [],
   "source": [
    "from devito import * # (Not a good idea in an actual project!)\n",
    "from pprint import pprint"
   ]
  },
  {
   "cell_type": "markdown",
   "metadata": {},
   "source": [
    "### From equations to code in a few lines of Python\n",
    "\n",
    "The main objective of this section is to demonstrate how Devito and its [SymPy](http://www.sympy.org/en/index.html)-powered symbolic API can be used to solve partial differential equations using the finite difference method with highly optimized stencils in a few lines of Python. We demonstrate how computational stencils can be derived directly from the equation in an automated fashion and how Devito can be used to generate and execute, at runtime, the desired numerical scheme in the form of optimized C code.\n",
    "\n",
    "### Defining the physical domain\n",
    "\n",
    "Before we can begin creating finite-difference (FD) stencils we will need to give Devito a few details regarding the computational domain within which we wish to solve our problem. For this purpose we create a `Grid` object that stores the physical `extent` (the size) of our domain and knows how many points we want to use in each dimension to discretise our data.\n",
    "\n",
    "<img src=\"figures/grid.png\" style=\"width: 220px;\"/>"
   ]
  },
  {
   "cell_type": "code",
   "execution_count": 344,
   "metadata": {},
   "outputs": [
    {
     "data": {
      "text/plain": [
       "Grid[extent=(1.0, 1.0), shape=(5, 6), dimensions=(x, y)]"
      ]
     },
     "execution_count": 344,
     "metadata": {},
     "output_type": "execute_result"
    }
   ],
   "source": [
    "grid = Grid(shape=(5, 6), extent=(1., 1.))\n",
    "grid"
   ]
  },
  {
   "cell_type": "markdown",
   "metadata": {},
   "source": [
    "### Functions and data\n",
    "\n",
    "To express our equation in symbolic form and discretise it using finite differences, Devito provides a set of `Function` types. A `Function` object:\n",
    "\n",
    "1. Behaves like a `sympy.Function` symbol\n",
    "2. Manages data associated with the symbol\n",
    "\n",
    "To get more information on how to create and use a `Function` object, or any type provided by Devito, we can take a look at the documentation."
   ]
  },
  {
   "cell_type": "code",
   "execution_count": 345,
   "metadata": {},
   "outputs": [
    {
     "name": "stdout",
     "output_type": "stream",
     "text": [
      "\n",
      "Tensor symbol representing a discrete function in symbolic equations.\n",
      "\n",
      "A Function carries multi-dimensional data and provides operations to create\n",
      "finite-differences approximations.\n",
      "\n",
      "A Function encapsulates space-varying data; for data that also varies in time,\n",
      "use TimeFunction instead.\n",
      "\n",
      "Parameters\n",
      "----------\n",
      "name : str\n",
      "    Name of the symbol.\n",
      "grid : Grid, optional\n",
      "    Carries shape, dimensions, and dtype of the Function. When grid is not\n",
      "    provided, shape and dimensions must be given. For MPI execution, a\n",
      "    Grid is compulsory.\n",
      "space_order : int or 3-tuple of ints, optional, default=1\n",
      "    Discretisation order for space derivatives.\n",
      "    `space_order` also impacts the number of points available around a\n",
      "    generic point of interest.  By default, `space_order` points are\n",
      "    available on both sides of a generic point of interest, including those\n",
      "    nearby the grid boundary. Sometimes, fewer points suffice; in other\n",
      "    scenarios, more points are necessary. In such cases, instead of an\n",
      "    integer, one can pass:\n",
      "      * a 3-tuple `(o, lp, rp)` indicating the discretization order\n",
      "        (`o`) as well as the number of points on the left (`lp`) and\n",
      "        right (`rp`) sides of a generic point of interest;\n",
      "      * a 2-tuple `(o, ((lp0, rp0), (lp1, rp1), ...))` indicating the\n",
      "        discretization order (`o`) as well as the number of points on\n",
      "        the left/right sides of a generic point of interest for each\n",
      "        SpaceDimension.\n",
      "shape : tuple of ints, optional\n",
      "    Shape of the domain region in grid points. Only necessary if `grid`\n",
      "    isn't given.\n",
      "dimensions : tuple of Dimension, optional\n",
      "    Dimensions associated with the object. Only necessary if `grid` isn't\n",
      "    given.\n",
      "dtype : data-type, optional, default=np.float32\n",
      "    Any object that can be interpreted as a numpy data type.\n",
      "staggered : Dimension or tuple of Dimension or Stagger, optional, default=None\n",
      "    Define how the Function is staggered.\n",
      "initializer : callable or any object exposing the buffer interface, default=None\n",
      "    Data initializer. If a callable is provided, data is allocated lazily.\n",
      "allocator : MemoryAllocator, optional\n",
      "    Controller for memory allocation. To be used, for example, when one wants\n",
      "    to take advantage of the memory hierarchy in a NUMA architecture. Refer to\n",
      "    `default_allocator.__doc__` for more information.\n",
      "padding : int or tuple of ints, optional\n",
      "    Allocate extra grid points to maximize data access alignment. When a tuple\n",
      "    of ints, one int per Dimension should be provided.\n",
      "\n",
      "Examples\n",
      "--------\n",
      "Creation\n",
      "\n",
      ">>> from devito import Grid, Function\n",
      ">>> grid = Grid(shape=(4, 4))\n",
      ">>> f = Function(name='f', grid=grid)\n",
      ">>> f\n",
      "f(x, y)\n",
      ">>> g = Function(name='g', grid=grid, space_order=2)\n",
      ">>> g\n",
      "g(x, y)\n",
      "\n",
      "First-order derivatives through centered finite-difference approximations\n",
      "\n",
      ">>> f.dx\n",
      "Derivative(f(x, y), x)\n",
      ">>> f.dy\n",
      "Derivative(f(x, y), y)\n",
      ">>> g.dx\n",
      "Derivative(g(x, y), x)\n",
      ">>> (f + g).dx\n",
      "Derivative(f(x, y) + g(x, y), x)\n",
      "\n",
      "First-order derivatives through left/right finite-difference approximations\n",
      "\n",
      ">>> f.dxl\n",
      "Derivative(f(x, y), x)\n",
      "\n",
      "Note that the fact that it's a left-derivative isn't captured in the representation.\n",
      "However, upon derivative expansion, this becomes clear\n",
      "\n",
      ">>> f.dxl.evaluate\n",
      "f(x, y)/h_x - f(x - h_x, y)/h_x\n",
      ">>> f.dxr\n",
      "Derivative(f(x, y), x)\n",
      "\n",
      "Second-order derivative through centered finite-difference approximation\n",
      "\n",
      ">>> g.dx2\n",
      "Derivative(g(x, y), (x, 2))\n",
      "\n",
      "Notes\n",
      "-----\n",
      "The parameters must always be given as keyword arguments, since SymPy\n",
      "uses `*args` to (re-)create the dimension arguments of the symbolic object.\n",
      "\n"
     ]
    }
   ],
   "source": [
    "print(Function.__doc__)"
   ]
  },
  {
   "cell_type": "markdown",
   "metadata": {},
   "source": [
    "Ok, let's create a function $f(x, y)$ and look at the data Devito has associated with it. Please note that it is important to use explicit keywords, such as `name` or `grid` when creating `Function` objects."
   ]
  },
  {
   "cell_type": "code",
   "execution_count": 346,
   "metadata": {},
   "outputs": [
    {
     "data": {
      "text/latex": [
       "$\\displaystyle f(x, y)$"
      ],
      "text/plain": [
       "f(x, y)"
      ]
     },
     "execution_count": 346,
     "metadata": {},
     "output_type": "execute_result"
    }
   ],
   "source": [
    "f = Function(name='f', grid=grid)\n",
    "f"
   ]
  },
  {
   "cell_type": "code",
   "execution_count": 347,
   "metadata": {},
   "outputs": [
    {
     "data": {
      "text/plain": [
       "Data([[0., 0., 0., 0., 0., 0.],\n",
       "      [0., 0., 0., 0., 0., 0.],\n",
       "      [0., 0., 0., 0., 0., 0.],\n",
       "      [0., 0., 0., 0., 0., 0.],\n",
       "      [0., 0., 0., 0., 0., 0.]], dtype=float32)"
      ]
     },
     "execution_count": 347,
     "metadata": {},
     "output_type": "execute_result"
    }
   ],
   "source": [
    "f.data"
   ]
  },
  {
   "cell_type": "markdown",
   "metadata": {},
   "source": [
    "By default, Devito `Function` objects use the spatial dimensions `(x, y)` for 2D grids and `(x, y, z)` for 3D grids. To solve a PDE over several timesteps a time dimension is also required by our symbolic function. For this Devito provides an additional function type, the `TimeFunction`, which incorporates the correct dimension along with some other intricacies needed to create a time stepping scheme."
   ]
  },
  {
   "cell_type": "code",
   "execution_count": 348,
   "metadata": {},
   "outputs": [
    {
     "data": {
      "text/latex": [
       "$\\displaystyle g(t, x, y)$"
      ],
      "text/plain": [
       "g(t, x, y)"
      ]
     },
     "execution_count": 348,
     "metadata": {},
     "output_type": "execute_result"
    }
   ],
   "source": [
    "g = TimeFunction(name='g', grid=grid)\n",
    "g"
   ]
  },
  {
   "cell_type": "markdown",
   "metadata": {},
   "source": [
    "Since the default time order of a `TimeFunction` is `1`, the shape of `f` is `(2, 5, 6)`, i.e. Devito has allocated two buffers to represent `g(t, x, y)` and `g(t + dt, x, y)`:"
   ]
  },
  {
   "cell_type": "code",
   "execution_count": 349,
   "metadata": {},
   "outputs": [
    {
     "data": {
      "text/plain": [
       "(2, 5, 6)"
      ]
     },
     "execution_count": 349,
     "metadata": {},
     "output_type": "execute_result"
    }
   ],
   "source": [
    "g.shape"
   ]
  },
  {
   "cell_type": "markdown",
   "metadata": {},
   "source": [
    "### Derivatives of symbolic functions (and a detour into finite differences)\n",
    "\n",
    "First, lets have a quick overview of Finite differences. Consider a function $f(x,t)$. Recall that the Taylor series of $f(x,t)$ in the spatial dimension takes the form\n",
    "\n",
    "\\begin{equation*}\n",
    " f(x+h,t)=f(x,t)+\\frac{\\partial f}{\\partial x}h+\\frac{1}{2}\\frac{\\partial^2 f}{\\partial x^2}h^2+\\frac{1}{3!}\\frac{\\partial^3 f}{\\partial x^3}h^3+\\frac{1}{4!}\\frac{\\partial^4 f}{\\partial x^4}h^4+\\ldots.\n",
    "\\end{equation*}\n",
    "\n",
    "We can re-arrange the above expansion in the form\n",
    "\n",
    "\\begin{equation*}\n",
    " \\frac{\\partial f}{\\partial x}=\\frac{f(x+h,t)-f(x,t)}{h}-\\frac{1}{h}\\sum_{n=2}^{\\infty}\\frac{1}{n!}\\frac{\\partial^n f}{\\partial x^n}h^n.\n",
    "\\end{equation*}\n",
    "\n",
    "Thus, provided $h$ is small we can say\n",
    "\n",
    "\\begin{equation*}\n",
    " \\frac{\\partial f}{\\partial x}\\approx\\frac{f(x+h,t)-f(x,t)}{h},\n",
    "\\end{equation*}\n",
    "\n",
    "which will have an associated error\n",
    "\n",
    "\\begin{equation*}\n",
    "-\\frac{1}{h}\\sum_{n=2}^{\\infty}\\frac{1}{n!}\\frac{\\partial^n f}{\\partial x^n}h^n\n",
    "\\end{equation*}\n",
    "\n",
    "In comparison to our result (again, provided $h$ is small) the associated error will therefore be proportional to $h^2$ (if $h$ is small, $h^2$ will be very small and $h^3$ will be tiny). It is common to write this as\n",
    "\n",
    "\\begin{equation*}\n",
    " \\frac{\\partial f}{\\partial x}=\\frac{f(x+h,t)-f(x,t)+\\mathcal{O}(h^2)}{h}.\n",
    "\\end{equation*}\n",
    "\n",
    "This is the well known *forward difference* approximation and is how spatial derivatives are approximated in 'space order' 1 finite difference schemes.\n",
    "\n",
    "We can also write the following Taylor expansion\n",
    "\n",
    "\\begin{equation*}\n",
    " f(x-h,t)=f(x,t)-\\frac{\\partial f}{\\partial x}h+\\frac{1}{2}\\frac{\\partial^2 f}{\\partial x^2}h^2-\\frac{1}{3!}\\frac{\\partial^3 f}{\\partial x^3}h^3+\\frac{1}{4!}\\frac{\\partial^4 f}{\\partial x^4}h^4+\\ldots.\n",
    "\\end{equation*}\n",
    "\n",
    "This leads to the backward difference approximation which is also 'first oder accurate' (i.e. the error is proportional to $h^2$)\n",
    "\n",
    "\\begin{equation*}\n",
    " \\frac{\\partial f}{\\partial x}\\approx\\frac{f(x,t)-f(x-h,t)}{h}.\n",
    "\\end{equation*}\n",
    "\n",
    "Note now that if we look at $f(x+h)-f(x-h)$ and re-arrange we arrive at\n",
    "\n",
    "\\begin{equation*}\n",
    " \\frac{\\partial f}{\\partial x}=\\frac{f(x+h,t)-f(x-h,t)+\\mathcal{O}(h^3)}{2h},\n",
    "\\end{equation*}\n",
    "\n",
    "which is known as the centered difference approximation. Notice that now the $h^2$ terms cancel and the error is 'pushed' back to be of order $h^3$. That is, this approximation is (in theory) more accurate.\n",
    "\n",
    "We can continue this process by considering more and more expansions and solving the resulting set of 'simultaneous equations' for $\\partial f/\\partial x$ to create higher and higher order approximations. For example, if we consider the expansions $f(x+2h,t)$ and $f(x-2h,t)$ we arrive at a 'fourth order' accurate scheme of the form\n",
    "\n",
    "\\begin{equation*}\n",
    " \\frac{\\partial f}{\\partial x}=\\frac{\\frac{1}{12}f(x-2h,t)-\\frac{2}{3}f(x-h,t)+\\frac{2}{3}f(x+h,t)-\\frac{1}{12}f(x+2h,t)+\\mathcal{O}(h^5)}{h}.\n",
    "\\end{equation*}\n",
    "\n",
    "Notice that as we increase the accuracy of our approximation the **stencil** becomes larger (and hence computations with higher order stencils become more demanding).\n",
    "\n",
    "Through this process of manipulating Taylor series we can also derive approximations for other derivatives. For example, summing the series expansions $f(x+h,t)+f(x-h,t)$ and re-ordering we arrive at\n",
    "\n",
    "\\begin{equation*}\n",
    "  \\frac{\\partial^2 f}{\\partial x^2}=\\frac{f(x-h,t)-2f(x,t)+f(x+h,t)+\\mathcal{O}(h^3)}{h^2}.\n",
    "\\end{equation*}\n",
    "\n",
    "Further, we can do the same thing for time derivatives (or other spatial dimensions in higher dimensional problems) and arrive at\n",
    "\n",
    "\\begin{equation*}\n",
    " \\frac{\\partial f}{\\partial t}\\approx\\frac{f(x,t+\\delta t)-f(x,t)}{\\delta t},\n",
    "\\end{equation*}\n",
    "\n",
    "where $\\delta t$ is some small increment in time. This then allows us to create 'time-stepping schemes'. For example, consider the partial differential equation\n",
    "\n",
    "\\begin{equation*}\n",
    " \\frac{\\partial u}{\\partial t}+c\\left(\\frac{\\partial u}{\\partial x}+\\frac{\\partial u}{\\partial y}\\right)=0,\n",
    "\\end{equation*}\n",
    "\n",
    "discretizing only the temporal term for the time being we have\n",
    "\n",
    "\\begin{equation*}\n",
    " \\frac{u(x, y, t+\\delta t)-u(x, y, t)}{\\delta t}+c\\left(\\frac{\\partial u}{\\partial x}+\\frac{\\partial u}{\\partial y}\\right)=0,\n",
    "\\end{equation*}\n",
    "\n",
    "which we can re-arrange as\n",
    "\n",
    "\\begin{equation*}\n",
    " u(x, y, t+\\delta t)=u(x, y, t)-\\delta tc\\left(\\frac{\\partial u}{\\partial x}+\\frac{\\partial u}{\\partial y}\\right),\n",
    "\\end{equation*}\n",
    "\n",
    "which is one of the most basic *explicit* time stepping schemes. Now if we approximated our spatial derivative with a backward difference approximation our scheme will become\n",
    "\n",
    "\\begin{equation*}\n",
    " u(x, y, t+\\delta t)=u(x, y, t)-\\delta tc\\left(\\frac{u(x, y, t)-u(x-h, y, t)}{h} +\\frac{u(x, y, t)-u(x, y-h, t)}{h}\\right).\n",
    "\\end{equation*}\n",
    "\n",
    "(Note that here we have assumed an equal grid spacing $h_x=h_y=h$). Then, provided we know the status of our function $u$ at $t=0$ we can use the above scheme to compute the evolution of $u$ forward in time.\n",
    "\n"
   ]
  },
  {
   "cell_type": "markdown",
   "metadata": {},
   "source": [
    "### Exercise: Implement the above time-stepping scheme in pure python\n",
    "\n",
    "First, we need to define our grid, an initial condition, a time step and integration time. These are set for you in the cell blow:"
   ]
  },
  {
   "cell_type": "code",
   "execution_count": 350,
   "metadata": {},
   "outputs": [
    {
     "name": "stdout",
     "output_type": "stream",
     "text": [
      "dx 0.025, dy 0.025\n"
     ]
    },
    {
     "data": {
      "image/png": "[encoded data removed]",
      "text/plain": [
       "<Figure size 1100x700 with 1 Axes>"
      ]
     },
     "metadata": {},
     "output_type": "display_data"
    }
   ],
   "source": [
    "from examples.cfd import plot_field, init_hat\n",
    "import numpy as np\n",
    "%matplotlib inline\n",
    "\n",
    "# Some variable declarations\n",
    "nx = 81 # grid points in x dim\n",
    "ny = 81 # grid points in y dim\n",
    "nt = 200 # Number of time steps\n",
    "c = 1.\n",
    "dx = 2. / (nx - 1)\n",
    "dy = 2. / (ny - 1)\n",
    "print(\"dx %s, dy %s\" % (dx, dy))\n",
    "sigma = .2\n",
    "dt = sigma * dx # Time step\n",
    "\n",
    "# Create field and assign initial conditions\n",
    "u = np.empty((nx, ny))\n",
    "init_hat(field=u, dx=dx, dy=dy, value=2.)\n",
    "\n",
    "# Plot initial condition\n",
    "plot_field(u)"
   ]
  },
  {
   "cell_type": "code",
   "execution_count": 351,
   "metadata": {},
   "outputs": [
    {
     "name": "stdout",
     "output_type": "stream",
     "text": [
      "array([[1, 2, 3],\n",
      "       [4, 5, 6],\n",
      "       [7, 8, 9]])\n",
      "array([[5, 6],\n",
      "       [8, 9]])\n",
      "array([[1, 1],\n",
      "       [1, 1]])\n",
      "array([[2, 3],\n",
      "       [5, 6]])\n"
     ]
    }
   ],
   "source": [
    "# Implement your schme here:\n",
    "init_hat(field=u, dx=dx, dy=dy, value=2.)\n",
    "for n in range (nt + 1):\n",
    "    un = u.copy()\n",
    "    u[1:, 1:] = un[1:, 1:] - (c * dt * (((1 / dx) * (un[1:, 1:] - un[1:, :-1])) + ((1 / dy) * (un[1:, 1:] - un[:-1, 1:]))))\n",
    "    u[0, :] = 1.\n",
    "    u[-1, :] = 1.\n",
    "    u[:, 0] = 1.\n",
    "    u[:, -1] = 1.\n",
    "# plot_field(u)\n",
    "\n",
    "b = np.array([[1, 2, 3], [4, 5, 6], [7, 8, 9]])\n",
    "pprint(b)\n",
    "pprint(b[1:, 1:])\n",
    "pprint(b[1:, 1:] - b[1:, :-1])\n",
    "pprint(b[:-1, 1:])"
   ]
  },
  {
   "cell_type": "markdown",
   "metadata": {},
   "source": [
    "OK, now lets implement the same scheme in Devito. But first, lets learn a bit more about the symbolic DSL.\n",
    "\n",
    "The functions we created above all act as `sympy.Function` objects, which means that we can form symbolic derivative expressions from them. Devito provides a set of shorthand expressions (implemented as Python properties) that allow us to generate finite differences in symbolic form. For example, the property `f.dx` denotes $\\frac{\\partial}{\\partial x} f(x, y)$ - only that Devito has already discretised it with a finite difference expression. There are also a set of shorthand expressions for left (backward) and right (forward) derivatives:\n",
    "\n",
    "| Derivative | Shorthand | Discretised | Stencil |\n",
    "| ---------- |:---------:|:-----------:|:-------:|\n",
    "| $\\frac{\\partial}{\\partial x}f(x, y)$ (right) | `f.dxr` | $\\frac{f(x+h_x,y)}{h_x} - \\frac{f(x,y)}{h_x}$ | <img src=\"figures/stencil_forward.png\" style=\"width: 180px;\"/> |\n",
    "| $\\frac{\\partial}{\\partial x}f(x, y)$ (left) | `f.dxl` | $\\frac{f(x,y)}{h_x} - \\frac{f(x-h_x,y)}{h_x}$ | <img src=\"figures/stencil_backward.png\" style=\"width: 180px;\"/> |\n",
    "\n",
    "A similar set of expressions exist for each spatial dimension defined on our grid, for example `f.dy` and `f.dyl`. "
   ]
  },
  {
   "cell_type": "code",
   "execution_count": 352,
   "metadata": {},
   "outputs": [
    {
     "data": {
      "text/latex": [
       "$\\displaystyle \\frac{\\partial}{\\partial x} f(x, y)$"
      ],
      "text/plain": [
       "Derivative(f(x, y), x)"
      ]
     },
     "execution_count": 352,
     "metadata": {},
     "output_type": "execute_result"
    }
   ],
   "source": [
    "f.dxr # Forward difference/right derivative"
   ]
  },
  {
   "cell_type": "code",
   "execution_count": 353,
   "metadata": {},
   "outputs": [
    {
     "data": {
      "text/latex": [
       "$\\displaystyle \\frac{\\partial}{\\partial x} f(x, y)$"
      ],
      "text/plain": [
       "Derivative(f(x, y), x)"
      ]
     },
     "execution_count": 353,
     "metadata": {},
     "output_type": "execute_result"
    }
   ],
   "source": [
    "f.dxl # Backward difference/left derivative"
   ]
  },
  {
   "cell_type": "markdown",
   "metadata": {},
   "source": [
    "And to see the actual stencils they represent, we enduce the `evaluate` method:"
   ]
  },
  {
   "cell_type": "code",
   "execution_count": 354,
   "metadata": {},
   "outputs": [
    {
     "data": {
      "text/latex": [
       "$\\displaystyle - \\frac{f(x + h_x, y)}{h_{x}} + \\frac{f(x + 2*h_x, y)}{h_{x}}$"
      ],
      "text/plain": [
       "-f(x + h_x, y)/h_x + f(x + 2*h_x, y)/h_x"
      ]
     },
     "execution_count": 354,
     "metadata": {},
     "output_type": "execute_result"
    }
   ],
   "source": [
    "f.dxr.evaluate"
   ]
  },
  {
   "cell_type": "code",
   "execution_count": 355,
   "metadata": {},
   "outputs": [
    {
     "data": {
      "text/latex": [
       "$\\displaystyle \\frac{f(x, y)}{h_{x}} - \\frac{f(x - h_x, y)}{h_{x}}$"
      ],
      "text/plain": [
       "f(x, y)/h_x - f(x - h_x, y)/h_x"
      ]
     },
     "execution_count": 355,
     "metadata": {},
     "output_type": "execute_result"
    }
   ],
   "source": [
    "f.dxl.evaluate"
   ]
  },
  {
   "cell_type": "markdown",
   "metadata": {},
   "source": [
    "One can also take derivatives in time of `TimeFunction` objects. For example, to take the first derivative in time of `g` you can simply write:"
   ]
  },
  {
   "cell_type": "code",
   "execution_count": 356,
   "metadata": {},
   "outputs": [
    {
     "data": {
      "text/latex": [
       "$\\displaystyle \\frac{\\partial}{\\partial t} g(t, x, y)$"
      ],
      "text/plain": [
       "Derivative(g(t, x, y), t)"
      ]
     },
     "execution_count": 356,
     "metadata": {},
     "output_type": "execute_result"
    }
   ],
   "source": [
    "g.dt"
   ]
  },
  {
   "cell_type": "markdown",
   "metadata": {},
   "source": [
    "We may also want to take a look at the stencil Devito will generate based on the chosen discretisation:"
   ]
  },
  {
   "cell_type": "code",
   "execution_count": 357,
   "metadata": {},
   "outputs": [
    {
     "data": {
      "text/latex": [
       "$\\displaystyle - \\frac{g(t, x, y)}{dt} + \\frac{g(t + dt, x, y)}{dt}$"
      ],
      "text/plain": [
       "-g(t, x, y)/dt + g(t + dt, x, y)/dt"
      ]
     },
     "execution_count": 357,
     "metadata": {},
     "output_type": "execute_result"
    }
   ],
   "source": [
    "g.dt.evaluate"
   ]
  },
  {
   "cell_type": "markdown",
   "metadata": {},
   "source": [
    "There also exist convenient shortcuts to express the forward and backward stencil points, `g(t+dt, x, y)` and `g(t-dt, x, y)`."
   ]
  },
  {
   "cell_type": "code",
   "execution_count": 358,
   "metadata": {},
   "outputs": [
    {
     "data": {
      "text/latex": [
       "$\\displaystyle g(t + dt, x, y)$"
      ],
      "text/plain": [
       "g(t + dt, x, y)"
      ]
     },
     "execution_count": 358,
     "metadata": {},
     "output_type": "execute_result"
    }
   ],
   "source": [
    "g.forward"
   ]
  },
  {
   "cell_type": "code",
   "execution_count": 359,
   "metadata": {},
   "outputs": [
    {
     "data": {
      "text/latex": [
       "$\\displaystyle g(t - dt, x, y)$"
      ],
      "text/plain": [
       "g(t - dt, x, y)"
      ]
     },
     "execution_count": 359,
     "metadata": {},
     "output_type": "execute_result"
    }
   ],
   "source": [
    "g.backward"
   ]
  },
  {
   "cell_type": "markdown",
   "metadata": {},
   "source": [
    "And of course, there's nothing to stop us taking derivatives on these objects:"
   ]
  },
  {
   "cell_type": "code",
   "execution_count": 360,
   "metadata": {},
   "outputs": [
    {
     "data": {
      "text/latex": [
       "$\\displaystyle - \\frac{g(t + dt, x, y)}{dt} + \\frac{g(t + 2*dt, x, y)}{dt}$"
      ],
      "text/plain": [
       "-g(t + dt, x, y)/dt + g(t + 2*dt, x, y)/dt"
      ]
     },
     "execution_count": 360,
     "metadata": {},
     "output_type": "execute_result"
    }
   ],
   "source": [
    "g.forward.dt.evaluate"
   ]
  },
  {
   "cell_type": "code",
   "execution_count": 361,
   "metadata": {},
   "outputs": [
    {
     "data": {
      "text/latex": [
       "$\\displaystyle - \\frac{g(t + dt, x, y)}{h_{y}} + \\frac{g(t + dt, x, y + h_y)}{h_{y}}$"
      ],
      "text/plain": [
       "-g(t + dt, x, y)/h_y + g(t + dt, x, y + h_y)/h_y"
      ]
     },
     "execution_count": 361,
     "metadata": {},
     "output_type": "execute_result"
    }
   ],
   "source": [
    "g.forward.dy.evaluate"
   ]
  },
  {
   "cell_type": "markdown",
   "metadata": {},
   "source": [
    "Lets now implement the linear convection operator from above in Devito:"
   ]
  },
  {
   "cell_type": "code",
   "execution_count": 362,
   "metadata": {},
   "outputs": [
    {
     "data": {
      "image/png": "[encoded data removed]",
      "text/plain": [
       "<Figure size 1100x700 with 1 Axes>"
      ]
     },
     "metadata": {},
     "output_type": "display_data"
    }
   ],
   "source": [
    "from examples.cfd import init_smooth, plot_field\n",
    "\n",
    "nt = 100  # Number of timesteps\n",
    "dt = 0.2 * 2. / 80  # Timestep size (sigma=0.2)\n",
    "c = 1  # Value for c\n",
    "\n",
    "# Then we create a grid and our function\n",
    "grid = Grid(shape=(81, 81), extent=(2., 2.))\n",
    "u = TimeFunction(name='u', grid=grid)\n",
    "\n",
    "# We can now set the initial condition and plot it\n",
    "init_hat(field=u.data[0,:], dx=grid.spacing[0], dy=grid.spacing[1], value=2.)\n",
    "\n",
    "plot_field(u.data[0])"
   ]
  },
  {
   "cell_type": "markdown",
   "metadata": {},
   "source": [
    "Next, we wish to discretise our governing equation so that a functional `Operator` can be created from it. We begin by simply writing out the equation as a symbolic expression, while using shorthand expressions for the derivatives provided by the `Function` object. This will create a symbolic object of the dicretised equation.\n",
    "\n",
    "Using the Devito shorthand notation, we can express the governing equations as:"
   ]
  },
  {
   "cell_type": "code",
   "execution_count": 363,
   "metadata": {},
   "outputs": [
    {
     "data": {
      "text/latex": [
       "$\\displaystyle \\frac{\\partial}{\\partial x} u(t, x, y) + \\frac{\\partial}{\\partial y} u(t, x, y) + \\frac{\\partial}{\\partial t} u(t, x, y) = 0$"
      ],
      "text/plain": [
       "Eq(Derivative(u(t, x, y), x) + Derivative(u(t, x, y), y) + Derivative(u(t, x, y), t), 0)"
      ]
     },
     "execution_count": 363,
     "metadata": {},
     "output_type": "execute_result"
    }
   ],
   "source": [
    "eq = Eq(u.dt + c * u.dxl + c * u.dyl)\n",
    "eq"
   ]
  },
  {
   "cell_type": "markdown",
   "metadata": {},
   "source": [
    "We now need to rearrange our equation so that the term $u(t+dt, x, y)$ is on the left-hand side, since it represents the next point in time for our state variable $u$. Devito provides a utility called `solve`, built on top of SymPy's `solve`, to rearrange our equation so that it represents a valid state update for $u$. Here, we use `solve` to create a valid stencil for our update to `u(t+dt, x, y)`:"
   ]
  },
  {
   "cell_type": "code",
   "execution_count": 364,
   "metadata": {},
   "outputs": [
    {
     "data": {
      "text/latex": [
       "$\\displaystyle u(t + dt, x, y) = dt \\left(- \\frac{\\partial}{\\partial x} u(t, x, y) - \\frac{\\partial}{\\partial y} u(t, x, y) + \\frac{u(t, x, y)}{dt}\\right)$"
      ],
      "text/plain": [
       "Eq(u(t + dt, x, y), dt*(-Derivative(u(t, x, y), x) - Derivative(u(t, x, y), y) + u(t, x, y)/dt))"
      ]
     },
     "execution_count": 364,
     "metadata": {},
     "output_type": "execute_result"
    }
   ],
   "source": [
    "stencil = solve(eq, u.forward)\n",
    "update = Eq(u.forward, stencil)\n",
    "update"
   ]
  },
  {
   "cell_type": "markdown",
   "metadata": {},
   "source": [
    "We can check our `update` scheme is the same as our pen and paper scheme by `evaluate`ing it:"
   ]
  },
  {
   "cell_type": "code",
   "execution_count": 365,
   "metadata": {},
   "outputs": [
    {
     "data": {
      "text/latex": [
       "$\\displaystyle u(t + dt, x, y) = dt \\left(- (\\frac{u(t, x, y)}{h_{x}} - \\frac{u(t, x - h_x, y)}{h_{x}}) - \\left(\\frac{u(t, x, y)}{h_{y}} - \\frac{u(t, x, y - h_y)}{h_{y}}\\right) + \\frac{u(t, x, y)}{dt}\\right)$"
      ],
      "text/plain": [
       "Eq(u(t + dt, x, y), dt*(-(u(t, x, y)/h_x - u(t, x - h_x, y)/h_x) - (u(t, x, y)/h_y - u(t, x, y - h_y)/h_y) + u(t, x, y)/dt))"
      ]
     },
     "execution_count": 365,
     "metadata": {},
     "output_type": "execute_result"
    }
   ],
   "source": [
    "update.evaluate"
   ]
  },
  {
   "cell_type": "markdown",
   "metadata": {},
   "source": [
    "The right-hand side of the 'update' equation should be a stencil of the shape\n",
    "<img src=\"figures/stencil_convection.png\" style=\"width: 160px;\"/>"
   ]
  },
  {
   "cell_type": "markdown",
   "metadata": {},
   "source": [
    "Next we define our boundary conditions:"
   ]
  },
  {
   "cell_type": "code",
   "execution_count": 366,
   "metadata": {},
   "outputs": [],
   "source": [
    "x, y = grid.dimensions\n",
    "t = grid.stepping_dim\n",
    "bc_left = Eq(u[t + 1, 0, y], 1.)\n",
    "bc_right = Eq(u[t + 1, nx-1, y], 1.)\n",
    "bc_top = Eq(u[t + 1, x, ny-1], 1.)\n",
    "bc_bottom = Eq(u[t + 1, x, 0], 1.)"
   ]
  },
  {
   "cell_type": "markdown",
   "metadata": {},
   "source": [
    "Once we have created this 'update' expression and the appropriate boundary conditions, we can create a Devito `Operator`. This `Operator` will basically behave like a Python function that we can call to apply the created stencil over our associated data, as long as we provide all necessary unknowns. In this case we need to provide the number of timesteps to compute via the keyword `time` and the timestep size via `dt` (both have been defined above):"
   ]
  },
  {
   "cell_type": "code",
   "execution_count": 367,
   "metadata": {},
   "outputs": [
    {
     "name": "stderr",
     "output_type": "stream",
     "text": [
      "Operator `Kernel` ran in 0.01 s\n"
     ]
    },
    {
     "data": {
      "image/png": "[encoded data removed]",
      "text/plain": [
       "<Figure size 1100x700 with 1 Axes>"
      ]
     },
     "metadata": {},
     "output_type": "display_data"
    }
   ],
   "source": [
    "op = Operator([update, bc_left, bc_right, bc_top, bc_bottom])\n",
    "op(time=nt+1, dt=dt)\n",
    "\n",
    "plot_field(u.data[0])"
   ]
  },
  {
   "cell_type": "markdown",
   "metadata": {},
   "source": [
    "Note that the real power of Devito is hidden within `Operator`, it will automatically generate and compile the optimized C code. We can look at this code (noting that this is not a requirement of executing it) via:"
   ]
  },
  {
   "cell_type": "code",
   "execution_count": 368,
   "metadata": {},
   "outputs": [
    {
     "name": "stdout",
     "output_type": "stream",
     "text": [
      "#define _POSIX_C_SOURCE 200809L\n",
      "#define START(S) struct timeval start_ ## S , end_ ## S ; gettimeofday(&start_ ## S , NULL);\n",
      "#define STOP(S,T) gettimeofday(&end_ ## S, NULL); T->S += (double)(end_ ## S .tv_sec-start_ ## S.tv_sec)+(double)(end_ ## S .tv_usec-start_ ## S .tv_usec)/1000000;\n",
      "\n",
      "#include \"stdlib.h\"\n",
      "#include \"math.h\"\n",
      "#include \"sys/time.h\"\n",
      "#include \"xmmintrin.h\"\n",
      "#include \"pmmintrin.h\"\n",
      "\n",
      "struct dataobj\n",
      "{\n",
      "  void *restrict data;\n",
      "  unsigned long * size;\n",
      "  unsigned long * npsize;\n",
      "  unsigned long * dsize;\n",
      "  int * hsize;\n",
      "  int * hofs;\n",
      "  int * oofs;\n",
      "  void * dmap;\n",
      "} ;\n",
      "\n",
      "struct profiler\n",
      "{\n",
      "  double section0;\n",
      "  double section1;\n",
      "  double section2;\n",
      "} ;\n",
      "\n",
      "\n",
      "int Kernel(struct dataobj *restrict u_vec, const float dt, const float h_x, const float h_y, const int time_M, const int time_m, const int x_M, const int x_m, const int y_M, const int y_m, struct profiler * timers)\n",
      "{\n",
      "  float (*restrict u)[u_vec->size[1]][u_vec->size[2]] __attribute__ ((aligned (64))) = (float (*)[u_vec->size[1]][u_vec->size[2]]) u_vec->data;\n",
      "\n",
      "  /* Flush denormal numbers to zero in hardware */\n",
      "  _MM_SET_DENORMALS_ZERO_MODE(_MM_DENORMALS_ZERO_ON);\n",
      "  _MM_SET_FLUSH_ZERO_MODE(_MM_FLUSH_ZERO_ON);\n",
      "\n",
      "  float r0 = 1.0F/h_x;\n",
      "  float r1 = 1.0F/h_y;\n",
      "  float r2 = 1.0F/dt;\n",
      "\n",
      "  for (int time = time_m, t0 = (time)%(2), t1 = (time + 1)%(2); time <= time_M; time += 1, t0 = (time)%(2), t1 = (time + 1)%(2))\n",
      "  {\n",
      "    START(section0)\n",
      "    for (int x = x_m; x <= x_M; x += 1)\n",
      "    {\n",
      "      #pragma omp simd aligned(u:32)\n",
      "      for (int y = y_m; y <= y_M; y += 1)\n",
      "      {\n",
      "        u[t1][x + 1][y + 1] = dt*(-r0*(-u[t0][x][y + 1]) - r0*u[t0][x + 1][y + 1] - r1*(-u[t0][x + 1][y]) - r1*u[t0][x + 1][y + 1] + r2*u[t0][x + 1][y + 1]);\n",
      "      }\n",
      "    }\n",
      "    STOP(section0,timers)\n",
      "\n",
      "    START(section1)\n",
      "    for (int y = y_m; y <= y_M; y += 1)\n",
      "    {\n",
      "      u[t1][1][y + 1] = 1.0F;\n",
      "      u[t1][81][y + 1] = 1.0F;\n",
      "    }\n",
      "    STOP(section1,timers)\n",
      "\n",
      "    START(section2)\n",
      "    for (int x = x_m; x <= x_M; x += 1)\n",
      "    {\n",
      "      u[t1][x + 1][81] = 1.0F;\n",
      "      u[t1][x + 1][1] = 1.0F;\n",
      "    }\n",
      "    STOP(section2,timers)\n",
      "  }\n",
      "\n",
      "  return 0;\n",
      "}\n",
      "\n"
     ]
    }
   ],
   "source": [
    "print(op.ccode)"
   ]
  },
  {
   "cell_type": "markdown",
   "metadata": {},
   "source": [
    "#### Second derivatives and high-order stencils\n",
    "\n",
    "In the above example only a combination of first derivatives was present in the governing equation. However, second (or higher) order derivatives are often present in scientific problems of interest, notably any PDE modeling diffusion. To generate second order derivatives we must give the `devito.Function` object another piece of information: the desired discretisation of the stencil(s).\n",
    "\n",
    "First, lets define a simple second derivative in `x`, for which we need to give $u$ a `space_order` of (at least) `2`. The shorthand for this second derivative is `u.dx2`."
   ]
  },
  {
   "cell_type": "code",
   "execution_count": 369,
   "metadata": {},
   "outputs": [
    {
     "data": {
      "text/latex": [
       "$\\displaystyle \\frac{\\partial^{2}}{\\partial x^{2}} u(t, x, y)$"
      ],
      "text/plain": [
       "Derivative(u(t, x, y), (x, 2))"
      ]
     },
     "execution_count": 369,
     "metadata": {},
     "output_type": "execute_result"
    }
   ],
   "source": [
    "u = TimeFunction(name='u', grid=grid, space_order=2)\n",
    "u.dx2"
   ]
  },
  {
   "cell_type": "code",
   "execution_count": 370,
   "metadata": {},
   "outputs": [
    {
     "data": {
      "text/latex": [
       "$\\displaystyle - \\frac{2.0 u(t, x, y)}{h_{x}^{2}} + \\frac{u(t, x - h_x, y)}{h_{x}^{2}} + \\frac{u(t, x + h_x, y)}{h_{x}^{2}}$"
      ],
      "text/plain": [
       "-2.0*u(t, x, y)/h_x**2 + u(t, x - h_x, y)/h_x**2 + u(t, x + h_x, y)/h_x**2"
      ]
     },
     "execution_count": 370,
     "metadata": {},
     "output_type": "execute_result"
    }
   ],
   "source": [
    "u.dx2.evaluate"
   ]
  },
  {
   "cell_type": "markdown",
   "metadata": {},
   "source": [
    "We can increase the discretisation arbitrarily if we wish to specify higher order FD stencils:"
   ]
  },
  {
   "cell_type": "code",
   "execution_count": 371,
   "metadata": {},
   "outputs": [
    {
     "data": {
      "text/latex": [
       "$\\displaystyle \\frac{\\partial^{2}}{\\partial x^{2}} u(t, x, y)$"
      ],
      "text/plain": [
       "Derivative(u(t, x, y), (x, 2))"
      ]
     },
     "execution_count": 371,
     "metadata": {},
     "output_type": "execute_result"
    }
   ],
   "source": [
    "u = TimeFunction(name='u', grid=grid, space_order=4)\n",
    "u.dx2"
   ]
  },
  {
   "cell_type": "code",
   "execution_count": 372,
   "metadata": {},
   "outputs": [
    {
     "data": {
      "text/latex": [
       "$\\displaystyle - \\frac{2.5 u(t, x, y)}{h_{x}^{2}} - \\frac{0.0833333333 u(t, x - 2*h_x, y)}{h_{x}^{2}} + \\frac{1.33333333 u(t, x - h_x, y)}{h_{x}^{2}} + \\frac{1.33333333 u(t, x + h_x, y)}{h_{x}^{2}} - \\frac{0.0833333333 u(t, x + 2*h_x, y)}{h_{x}^{2}}$"
      ],
      "text/plain": [
       "-2.5*u(t, x, y)/h_x**2 - 0.0833333333*u(t, x - 2*h_x, y)/h_x**2 + 1.33333333*u(t, x - h_x, y)/h_x**2 + 1.33333333*u(t, x + h_x, y)/h_x**2 - 0.0833333333*u(t, x + 2*h_x, y)/h_x**2"
      ]
     },
     "execution_count": 372,
     "metadata": {},
     "output_type": "execute_result"
    }
   ],
   "source": [
    "u.dx2.evaluate"
   ]
  },
  {
   "cell_type": "markdown",
   "metadata": {},
   "source": [
    "To implement the diffusion or wave equations, we must take the Laplacian $\\nabla^2 u$, which is the sum of the second derivatives in all spatial dimensions. For this, Devito also provides a shorthand expression, which means we do not have to hard-code the problem dimension (2D or 3D) in the code. To change the problem dimension we can create another `Grid` object and use this to re-define our `Function`'s:"
   ]
  },
  {
   "cell_type": "code",
   "execution_count": 373,
   "metadata": {},
   "outputs": [
    {
     "data": {
      "text/latex": [
       "$\\displaystyle u(t, x, y, z)$"
      ],
      "text/plain": [
       "u(t, x, y, z)"
      ]
     },
     "execution_count": 373,
     "metadata": {},
     "output_type": "execute_result"
    }
   ],
   "source": [
    "grid_3d = Grid(shape=(5, 6, 7), extent=(1., 1., 1.))\n",
    "\n",
    "u = TimeFunction(name='u', grid=grid_3d, space_order=2)\n",
    "u"
   ]
  },
  {
   "cell_type": "markdown",
   "metadata": {},
   "source": [
    "We can re-define our function `u` with a different `space_order` argument to change the discretisation order of the stencil expression created. For example, we can derive an expression of the 12th-order Laplacian $\\nabla^2 u$:"
   ]
  },
  {
   "cell_type": "code",
   "execution_count": 374,
   "metadata": {},
   "outputs": [
    {
     "data": {
      "text/latex": [
       "$\\displaystyle \\frac{\\partial^{2}}{\\partial x^{2}} u(t, x, y, z) + \\frac{\\partial^{2}}{\\partial y^{2}} u(t, x, y, z) + \\frac{\\partial^{2}}{\\partial z^{2}} u(t, x, y, z)$"
      ],
      "text/plain": [
       "Derivative(u(t, x, y, z), (x, 2)) + Derivative(u(t, x, y, z), (y, 2)) + Derivative(u(t, x, y, z), (z, 2))"
      ]
     },
     "execution_count": 374,
     "metadata": {},
     "output_type": "execute_result"
    }
   ],
   "source": [
    "u = TimeFunction(name='u', grid=grid_3d, space_order=12)\n",
    "u.laplace"
   ]
  },
  {
   "cell_type": "markdown",
   "metadata": {},
   "source": [
    "The same expression could also have been generated explicitly via:"
   ]
  },
  {
   "cell_type": "code",
   "execution_count": 375,
   "metadata": {},
   "outputs": [
    {
     "data": {
      "text/latex": [
       "$\\displaystyle \\frac{\\partial^{2}}{\\partial x^{2}} u(t, x, y, z) + \\frac{\\partial^{2}}{\\partial y^{2}} u(t, x, y, z) + \\frac{\\partial^{2}}{\\partial z^{2}} u(t, x, y, z)$"
      ],
      "text/plain": [
       "Derivative(u(t, x, y, z), (x, 2)) + Derivative(u(t, x, y, z), (y, 2)) + Derivative(u(t, x, y, z), (z, 2))"
      ]
     },
     "execution_count": 375,
     "metadata": {},
     "output_type": "execute_result"
    }
   ],
   "source": [
    "u.dx2 + u.dy2 + u.dz2"
   ]
  },
  {
   "cell_type": "markdown",
   "metadata": {},
   "source": [
    "#### Derivatives of composite expressions\n",
    "\n",
    "Derivatives of any arbitrary expression can easily be generated:"
   ]
  },
  {
   "cell_type": "code",
   "execution_count": 376,
   "metadata": {},
   "outputs": [],
   "source": [
    "u = TimeFunction(name='u', grid=grid, space_order=2)\n",
    "v = TimeFunction(name='v', grid=grid, space_order=2, time_order=2)"
   ]
  },
  {
   "cell_type": "code",
   "execution_count": 377,
   "metadata": {},
   "outputs": [
    {
     "data": {
      "text/latex": [
       "$\\displaystyle \\frac{\\partial^{2}}{\\partial x^{2}} \\left(\\frac{\\partial^{2}}{\\partial x^{2}} u(t, x, y) + \\frac{\\partial^{2}}{\\partial y^{2}} u(t, x, y) + \\frac{\\partial^{2}}{\\partial t^{2}} v(t, x, y)\\right)$"
      ],
      "text/plain": [
       "Derivative(Derivative(u(t, x, y), (x, 2)) + Derivative(u(t, x, y), (y, 2)) + Derivative(v(t, x, y), (t, 2)), (x, 2))"
      ]
     },
     "execution_count": 377,
     "metadata": {},
     "output_type": "execute_result"
    }
   ],
   "source": [
    "(v.dt2 + u.laplace).dx2"
   ]
  },
  {
   "cell_type": "markdown",
   "metadata": {},
   "source": [
    "Which can, depending on the chosen discretisation, lead to fairly complex stencils:"
   ]
  },
  {
   "cell_type": "code",
   "execution_count": 378,
   "metadata": {},
   "outputs": [
    {
     "data": {
      "text/latex": [
       "$\\displaystyle - \\frac{2.0 \\left(\\left(- \\frac{2.0 v(t, x, y)}{dt^{2}} + \\frac{v(t - dt, x, y)}{dt^{2}} + \\frac{v(t + dt, x, y)}{dt^{2}}\\right) + \\left(- \\frac{2.0 u(t, x, y)}{h_{x}^{2}} + \\frac{u(t, x - h_x, y)}{h_{x}^{2}} + \\frac{u(t, x + h_x, y)}{h_{x}^{2}}\\right) + \\left(- \\frac{2.0 u(t, x, y)}{h_{y}^{2}} + \\frac{u(t, x, y - h_y)}{h_{y}^{2}} + \\frac{u(t, x, y + h_y)}{h_{y}^{2}}\\right)\\right)}{h_{x}^{2}} + \\frac{\\left(- \\frac{2.0 v(t, x - h_x, y)}{dt^{2}} + \\frac{v(t - dt, x - h_x, y)}{dt^{2}} + \\frac{v(t + dt, x - h_x, y)}{dt^{2}}\\right) + \\left(\\frac{u(t, x, y)}{h_{x}^{2}} + \\frac{u(t, x - 2*h_x, y)}{h_{x}^{2}} - \\frac{2.0 u(t, x - h_x, y)}{h_{x}^{2}}\\right) + \\left(- \\frac{2.0 u(t, x - h_x, y)}{h_{y}^{2}} + \\frac{u(t, x - h_x, y - h_y)}{h_{y}^{2}} + \\frac{u(t, x - h_x, y + h_y)}{h_{y}^{2}}\\right)}{h_{x}^{2}} + \\frac{\\left(- \\frac{2.0 v(t, x + h_x, y)}{dt^{2}} + \\frac{v(t - dt, x + h_x, y)}{dt^{2}} + \\frac{v(t + dt, x + h_x, y)}{dt^{2}}\\right) + \\left(\\frac{u(t, x, y)}{h_{x}^{2}} - \\frac{2.0 u(t, x + h_x, y)}{h_{x}^{2}} + \\frac{u(t, x + 2*h_x, y)}{h_{x}^{2}}\\right) + \\left(- \\frac{2.0 u(t, x + h_x, y)}{h_{y}^{2}} + \\frac{u(t, x + h_x, y - h_y)}{h_{y}^{2}} + \\frac{u(t, x + h_x, y + h_y)}{h_{y}^{2}}\\right)}{h_{x}^{2}}$"
      ],
      "text/plain": [
       "-2.0*(-2.0*v(t, x, y)/dt**2 + v(t - dt, x, y)/dt**2 + v(t + dt, x, y)/dt**2 - 2.0*u(t, x, y)/h_x**2 + u(t, x - h_x, y)/h_x**2 + u(t, x + h_x, y)/h_x**2 - 2.0*u(t, x, y)/h_y**2 + u(t, x, y - h_y)/h_y**2 + u(t, x, y + h_y)/h_y**2)/h_x**2 + (-2.0*v(t, x - h_x, y)/dt**2 + v(t - dt, x - h_x, y)/dt**2 + v(t + dt, x - h_x, y)/dt**2 + u(t, x, y)/h_x**2 + u(t, x - 2*h_x, y)/h_x**2 - 2.0*u(t, x - h_x, y)/h_x**2 - 2.0*u(t, x - h_x, y)/h_y**2 + u(t, x - h_x, y - h_y)/h_y**2 + u(t, x - h_x, y + h_y)/h_y**2)/h_x**2 + (-2.0*v(t, x + h_x, y)/dt**2 + v(t - dt, x + h_x, y)/dt**2 + v(t + dt, x + h_x, y)/dt**2 + u(t, x, y)/h_x**2 - 2.0*u(t, x + h_x, y)/h_x**2 + u(t, x + 2*h_x, y)/h_x**2 - 2.0*u(t, x + h_x, y)/h_y**2 + u(t, x + h_x, y - h_y)/h_y**2 + u(t, x + h_x, y + h_y)/h_y**2)/h_x**2"
      ]
     },
     "execution_count": 378,
     "metadata": {},
     "output_type": "execute_result"
    }
   ],
   "source": [
    "(v.dt2 + u.laplace).dx2.evaluate"
   ]
  },
  {
   "cell_type": "markdown",
   "metadata": {},
   "source": [
    "In the linear convection example, the complexity of a pure Python vs Devito code wasn't much different, but when you start implementing stencils such as the one above you can see that Devito will quickly become much more convenient!"
   ]
  },
  {
   "cell_type": "markdown",
   "metadata": {},
   "source": [
    "**IMPORTANT**: Devito should not be thought of as a black box. Every aspect of the DSL has a well defined meaning (as we saw with the definition of derivatives etc. above). Although due to time-constraints there are some aspects of the DSL we're going to have to 'gloss' over, these are also rigorously (and clearly) defined and hence would not be difficult to explain if we had the time."
   ]
  }
 ],
 "metadata": {
  "kernelspec": {
   "display_name": "devito",
   "language": "python",
   "name": "python3"
  },
  "language_info": {
   "codemirror_mode": {
    "name": "ipython",
    "version": 3
   },
   "file_extension": ".py",
   "mimetype": "text/x-python",
   "name": "python",
   "nbconvert_exporter": "python",
   "pygments_lexer": "ipython3",
   "version": "3.13.1"
  }
 },
 "nbformat": 4,
 "nbformat_minor": 4
}
