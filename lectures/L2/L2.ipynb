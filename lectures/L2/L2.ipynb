{
 "cells": [
  {
   "cell_type": "markdown",
   "metadata": {},
   "source": [
    "# EART97012  <a class=\"tocSkip\">\n",
    "    \n",
    "# Geophysical Inversion <a class=\"tocSkip\">    \n",
    "    \n",
    "## Lecture 2 <a class=\"tocSkip\">   "
   ]
  },
  {
   "cell_type": "markdown",
   "metadata": {},
   "source": [
    "### Today's learning objectives  <a class=\"tocSkip\">\n",
    "   \n",
    "   \n",
    "1. To introduce concepts underlying the computational tasks of optimisation and inversion\n",
    "\n",
    "\n",
    "2. To review some more key linear algebra results, especially on the solvability of square problems, rank and range etc\n",
    "\n",
    "\n",
    "3. To introduce some simple examples of over- and under-determined problems\n",
    "\n",
    "    \n",
    "<br>\n",
    "\n",
    "<br>\n",
    "\n",
    "Note that the linear algebra thory and associated simple code examples unpin huge parts of computer/computational science, data science, machine learning and AI, etc. So these are very valuable and universal concepts both within and outside of the relatively narrow focus of this module on inversion methods.\n",
    "    \n",
    "<br>\n",
    "    \n",
    "I'll skip over some of the longer text sections to focus on explaining the linear algebra concepts using the whiteboard. Please read these through in your own time."
   ]
  },
  {
   "cell_type": "markdown",
   "metadata": {
    "toc": true
   },
   "source": [
    "<h1>Table of Contents<span class=\"tocSkip\"></span></h1>\n",
    "<div class=\"toc\"><ul class=\"toc-item\"><li><span><a href=\"#Introductory-comments\" data-toc-modified-id=\"Introductory-comments-1\"><span class=\"toc-item-num\">1&nbsp;&nbsp;</span>Introductory comments</a></span></li><li><span><a href=\"#Examples-(continued)\" data-toc-modified-id=\"Examples-(continued)-2\"><span class=\"toc-item-num\">2&nbsp;&nbsp;</span>Examples (continued)</a></span><ul class=\"toc-item\"><li><span><a href=\"#Inversion-example-(more-complex)\" data-toc-modified-id=\"Inversion-example-(more-complex)-2.1\"><span class=\"toc-item-num\">2.1&nbsp;&nbsp;</span>Inversion example (more complex)</a></span></li><li><span><a href=\"#Seismic-inversion\" data-toc-modified-id=\"Seismic-inversion-2.2\"><span class=\"toc-item-num\">2.2&nbsp;&nbsp;</span>Seismic inversion</a></span></li><li><span><a href=\"#Optimisation\" data-toc-modified-id=\"Optimisation-2.3\"><span class=\"toc-item-num\">2.3&nbsp;&nbsp;</span>Optimisation</a></span><ul class=\"toc-item\"><li><span><a href=\"#Optimisation-as-an-inversion-problem\" data-toc-modified-id=\"Optimisation-as-an-inversion-problem-2.3.1\"><span class=\"toc-item-num\">2.3.1&nbsp;&nbsp;</span>Optimisation as an inversion problem</a></span></li><li><span><a href=\"#Inversion-as-an-optimisation-problem\" data-toc-modified-id=\"Inversion-as-an-optimisation-problem-2.3.2\"><span class=\"toc-item-num\">2.3.2&nbsp;&nbsp;</span>Inversion as an optimisation problem</a></span></li><li><span><a href=\"#Optimisation---simple-example\" data-toc-modified-id=\"Optimisation---simple-example-2.3.3\"><span class=\"toc-item-num\">2.3.3&nbsp;&nbsp;</span>Optimisation - simple example</a></span></li><li><span><a href=\"#Optimisation-(more-complex)\" data-toc-modified-id=\"Optimisation-(more-complex)-2.3.4\"><span class=\"toc-item-num\">2.3.4&nbsp;&nbsp;</span>Optimisation (more complex)</a></span></li></ul></li></ul></li><li><span><a href=\"#More-on-forward-and-inverse-problems\" data-toc-modified-id=\"More-on-forward-and-inverse-problems-3\"><span class=\"toc-item-num\">3&nbsp;&nbsp;</span>More on forward and inverse problems</a></span><ul class=\"toc-item\"><li><span><a href=\"#Abstract-problem-setting\" data-toc-modified-id=\"Abstract-problem-setting-3.1\"><span class=\"toc-item-num\">3.1&nbsp;&nbsp;</span>Abstract problem setting</a></span></li><li><span><a href=\"#Real-world-problems\" data-toc-modified-id=\"Real-world-problems-3.2\"><span class=\"toc-item-num\">3.2&nbsp;&nbsp;</span>Real world problems</a></span></li><li><span><a href=\"#Incomplete,-inconsistent-and-inadequate-data\" data-toc-modified-id=\"Incomplete,-inconsistent-and-inadequate-data-3.3\"><span class=\"toc-item-num\">3.3&nbsp;&nbsp;</span>Incomplete, inconsistent and inadequate data</a></span></li><li><span><a href=\"#Linear-and-nonlinear-problems\" data-toc-modified-id=\"Linear-and-nonlinear-problems-3.4\"><span class=\"toc-item-num\">3.4&nbsp;&nbsp;</span>Linear and nonlinear problems</a></span><ul class=\"toc-item\"><li><span><a href=\"#Examples\" data-toc-modified-id=\"Examples-3.4.1\"><span class=\"toc-item-num\">3.4.1&nbsp;&nbsp;</span>Examples</a></span></li></ul></li></ul></li><li><span><a href=\"#An-example---straight-ray-tomography\" data-toc-modified-id=\"An-example---straight-ray-tomography-4\"><span class=\"toc-item-num\">4&nbsp;&nbsp;</span>An example - straight-ray tomography</a></span></li><li><span><a href=\"#Linear-(or-matrix)-systems-(a-reminder-on-square-systems)\" data-toc-modified-id=\"Linear-(or-matrix)-systems-(a-reminder-on-square-systems)-5\"><span class=\"toc-item-num\">5&nbsp;&nbsp;</span>Linear (or matrix) systems (a reminder on square systems)</a></span><ul class=\"toc-item\"><li><span><a href=\"#A-simple-square-example\" data-toc-modified-id=\"A-simple-square-example-5.1\"><span class=\"toc-item-num\">5.1&nbsp;&nbsp;</span>A simple square example</a></span></li><li><span><a href=\"#A-simple-example\" data-toc-modified-id=\"A-simple-example-5.2\"><span class=\"toc-item-num\">5.2&nbsp;&nbsp;</span>A simple example</a></span></li><li><span><a href=\"#Expanding-the-geometrical-thinking\" data-toc-modified-id=\"Expanding-the-geometrical-thinking-5.3\"><span class=\"toc-item-num\">5.3&nbsp;&nbsp;</span>Expanding the geometrical thinking</a></span></li><li><span><a href=\"#Solving-a-general-linear-system\" data-toc-modified-id=\"Solving-a-general-linear-system-5.4\"><span class=\"toc-item-num\">5.4&nbsp;&nbsp;</span>Solving a general linear system</a></span></li><li><span><a href=\"#Matrix-inverse\" data-toc-modified-id=\"Matrix-inverse-5.5\"><span class=\"toc-item-num\">5.5&nbsp;&nbsp;</span>Matrix inverse</a></span><ul class=\"toc-item\"><li><span><a href=\"#Properties-of-the-matrix-inverse\" data-toc-modified-id=\"Properties-of-the-matrix-inverse-5.5.1\"><span class=\"toc-item-num\">5.5.1&nbsp;&nbsp;</span>Properties of the matrix inverse</a></span></li><li><span><a href=\"#Using-the-inverse-matrix-to-solve-a-linear-system\" data-toc-modified-id=\"Using-the-inverse-matrix-to-solve-a-linear-system-5.5.2\"><span class=\"toc-item-num\">5.5.2&nbsp;&nbsp;</span>Using the inverse matrix to solve a linear system</a></span><ul class=\"toc-item\"><li><span><a href=\"#The-inverse-for-our-simple-example\" data-toc-modified-id=\"The-inverse-for-our-simple-example-5.5.2.1\"><span class=\"toc-item-num\">5.5.2.1&nbsp;&nbsp;</span>The inverse for our simple example</a></span></li></ul></li></ul></li><li><span><a href=\"#Row-operations-and-a-reminder-of-Gaussian-elimination\" data-toc-modified-id=\"Row-operations-and-a-reminder-of-Gaussian-elimination-5.6\"><span class=\"toc-item-num\">5.6&nbsp;&nbsp;</span>Row operations and a reminder of Gaussian elimination</a></span><ul class=\"toc-item\"><li><span><a href=\"#Row-operations-do-not-affect-the-corresponding-solution\" data-toc-modified-id=\"Row-operations-do-not-affect-the-corresponding-solution-5.6.1\"><span class=\"toc-item-num\">5.6.1&nbsp;&nbsp;</span>Row operations do not affect the corresponding solution</a></span></li><li><span><a href=\"#Problems-with-a-zero-RHS\" data-toc-modified-id=\"Problems-with-a-zero-RHS-5.6.2\"><span class=\"toc-item-num\">5.6.2&nbsp;&nbsp;</span>Problems with a zero RHS</a></span></li><li><span><a href=\"#(Reduced)-row-echelon-form-of-a-matrix\" data-toc-modified-id=\"(Reduced)-row-echelon-form-of-a-matrix-5.6.3\"><span class=\"toc-item-num\">5.6.3&nbsp;&nbsp;</span>(Reduced) row echelon form of a matrix</a></span></li><li><span><a href=\"#Solving-our-simple-example-using-the-inverse-matrix\" data-toc-modified-id=\"Solving-our-simple-example-using-the-inverse-matrix-5.6.4\"><span class=\"toc-item-num\">5.6.4&nbsp;&nbsp;</span>Solving our simple example using the inverse matrix</a></span></li></ul></li><li><span><a href=\"#The-determinant\" data-toc-modified-id=\"The-determinant-5.7\"><span class=\"toc-item-num\">5.7&nbsp;&nbsp;</span>The determinant</a></span><ul class=\"toc-item\"><li><span><a href=\"#Properties-of-the-determinant\" data-toc-modified-id=\"Properties-of-the-determinant-5.7.1\"><span class=\"toc-item-num\">5.7.1&nbsp;&nbsp;</span>Properties of the determinant</a></span></li><li><span><a href=\"#The-inverse-matrix\" data-toc-modified-id=\"The-inverse-matrix-5.7.2\"><span class=\"toc-item-num\">5.7.2&nbsp;&nbsp;</span>The inverse matrix</a></span></li><li><span><a href=\"#Using-SciPy-to-compute-the-inverse-matrix\" data-toc-modified-id=\"Using-SciPy-to-compute-the-inverse-matrix-5.7.3\"><span class=\"toc-item-num\">5.7.3&nbsp;&nbsp;</span>Using SciPy to compute the inverse matrix</a></span></li><li><span><a href=\"#Singular-matrices\" data-toc-modified-id=\"Singular-matrices-5.7.4\"><span class=\"toc-item-num\">5.7.4&nbsp;&nbsp;</span>Singular matrices</a></span></li></ul></li><li><span><a href=\"#Solvability-of-linear-systems\" data-toc-modified-id=\"Solvability-of-linear-systems-5.8\"><span class=\"toc-item-num\">5.8&nbsp;&nbsp;</span>Solvability of linear systems</a></span><ul class=\"toc-item\"><li><span><a href=\"#Linear-(in)dependence\" data-toc-modified-id=\"Linear-(in)dependence-5.8.1\"><span class=\"toc-item-num\">5.8.1&nbsp;&nbsp;</span>Linear (in)dependence</a></span></li><li><span><a href=\"#A-basis-for-a-vector-space\" data-toc-modified-id=\"A-basis-for-a-vector-space-5.8.2\"><span class=\"toc-item-num\">5.8.2&nbsp;&nbsp;</span>A basis for a vector space</a></span></li><li><span><a href=\"#An-example-|-the-geometrical-interpretation-of-matrix-vector-multiplication\" data-toc-modified-id=\"An-example-|-the-geometrical-interpretation-of-matrix-vector-multiplication-5.8.3\"><span class=\"toc-item-num\">5.8.3&nbsp;&nbsp;</span>An example | the geometrical interpretation of matrix vector multiplication</a></span></li></ul></li><li><span><a href=\"#Solvability-theory---some-equivalent-properties\" data-toc-modified-id=\"Solvability-theory---some-equivalent-properties-5.9\"><span class=\"toc-item-num\">5.9&nbsp;&nbsp;</span>Solvability theory - some equivalent properties</a></span></li><li><span><a href=\"#Rank,-range-and-null-space\" data-toc-modified-id=\"Rank,-range-and-null-space-5.10\"><span class=\"toc-item-num\">5.10&nbsp;&nbsp;</span>Rank, range and null-space</a></span><ul class=\"toc-item\"><li><span><a href=\"#Rank-and-range-for-square-systems\" data-toc-modified-id=\"Rank-and-range-for-square-systems-5.10.1\"><span class=\"toc-item-num\">5.10.1&nbsp;&nbsp;</span>Rank and range for square systems</a></span></li><li><span><a href=\"#The-non-square-case\" data-toc-modified-id=\"The-non-square-case-5.10.2\"><span class=\"toc-item-num\">5.10.2&nbsp;&nbsp;</span>The non-square case</a></span></li><li><span><a href=\"#The-null-space\" data-toc-modified-id=\"The-null-space-5.10.3\"><span class=\"toc-item-num\">5.10.3&nbsp;&nbsp;</span>The null-space</a></span></li><li><span><a href=\"#The-rank-nullity-theorem\" data-toc-modified-id=\"The-rank-nullity-theorem-5.10.4\"><span class=\"toc-item-num\">5.10.4&nbsp;&nbsp;</span>The rank-nullity theorem</a></span></li></ul></li><li><span><a href=\"#(Reduced)-row-echelon-form-of-a-matrix-and-matrix-rank-and-null-space\" data-toc-modified-id=\"(Reduced)-row-echelon-form-of-a-matrix-and-matrix-rank-and-null-space-5.11\"><span class=\"toc-item-num\">5.11&nbsp;&nbsp;</span>(Reduced) row echelon form of a matrix and matrix rank and null space</a></span></li></ul></li><li><span><a href=\"#Summary\" data-toc-modified-id=\"Summary-6\"><span class=\"toc-item-num\">6&nbsp;&nbsp;</span>Summary</a></span></li></ul></div>"
   ]
  },
  {
   "cell_type": "code",
   "execution_count": 1,
   "metadata": {
    "scrolled": false
   },
   "outputs": [
    {
     "data": {
      "text/plain": [
       "'%.6f'"
      ]
     },
     "execution_count": 1,
     "metadata": {},
     "output_type": "execute_result"
    }
   ],
   "source": [
    "import numpy as np\n",
    "import matplotlib.pyplot as plt\n",
    "import scipy.linalg as sl\n",
    "from pprint import pprint\n",
    "%matplotlib inline\n",
    "%precision 6"
   ]
  },
  {
   "cell_type": "markdown",
   "metadata": {},
   "source": [
    "# Introductory comments \n",
    "\n",
    "In this lecture we will consider some more important linear algebra theory, in particular what it tells us about solutions to *square* problems.\n",
    "\n",
    "We will introduce some simple examples of non-square systems - the case of over- and under-determined problems - with solution procedures coming in future weeks."
   ]
  },
  {
   "cell_type": "markdown",
   "metadata": {},
   "source": [
    "# Examples (continued)\n",
    "\n",
    "At the end of the last lecture we ended with the curve-fitting example, where we had more equations/constraints that unknowns (an example of an *over-determined* problem) and introduced the concept of the least squares solution. \n",
    "\n",
    "Let's consider some more examples.\n",
    "\n",
    "<br>\n",
    "\n",
    "## Inversion example (more complex)\n",
    "\n",
    "In this example from some current research we have a model for tides in the Bristol Channel and Severn Estuary, there are multiple numerical and physical \"parameters\" that go into the model, including incoming tidal boundary conditions, bathymetry etc, some of which are known to varying levels of uncertainty. \n",
    "\n",
    "In this example we consider bed roughness (or bottom friction) as the parameters we wish to invert for, given the data of time series of tidal heights at tide gauges indicated by the red dots in the following image which also shows the discretised domain and the computational mesh\n",
    "\n",
    "<img src=\"./figures/mesh.png\" width=500x>\n",
    "\n",
    "Using *a priori* information on the approximate distribution of sediment grain sizes on the seabed, we partition the domain into three zones: rock, gravel and sand, and assign one parameter value to each. In this case we therefore have more data than parameters.\n",
    "\n",
    "In this case an iterative approach is taken and the following figure shows how the inversion progresses\n",
    "\n",
    "<img src=\"./figures/thetis_inversion_convergence.png\" width=400x>\n",
    "\n",
    "$J$ is a misfit function between modelled tides and observations and we solve the inversion problem by seeking to minimse $J$ - we see it drop as the model fit to data improves with iteration. How the three parameter values vary with iteration is also shown.\n",
    "\n",
    "The quality of the prediction can then be compared at the green squares where data was not used in the inversion. We find that the error in  prediction at these independent locations is indeed reduced within the same numerical model. We have also found that the prediction is improved when these physical values are used in a completely independent tidal model. This latter fact gives us some indication that our inversion is telling us something useful physically and not simply correcting for biases in the first model.\n",
    "\n",
    "<br>\n",
    "\n",
    "For publications on this topic see \n",
    "\n",
    "- <https://link.springer.com/article/10.1007/s10236-022-01507-x>\n",
    "\n",
    "- <https://link.springer.com/article/10.1007/s13137-022-00196-4>"
   ]
  },
  {
   "cell_type": "markdown",
   "metadata": {},
   "source": [
    "## Seismic inversion\n",
    "\n",
    "The more practical half of this module will focus on seismic inversion and similar applications, which you will already be somewhat familiar with from other modules."
   ]
  },
  {
   "cell_type": "markdown",
   "metadata": {},
   "source": [
    "## Optimisation\n",
    "\n",
    "Optimisation, in a single real variable, seeks to find a value for $x$ such that a scalar function \n",
    "\n",
    "$$f(x)$$\n",
    "\n",
    "has a minimum value (or equivalently that $-f(x)$ has a maximum value).    \n",
    "\n",
    "For example, $f(x)$   might  be  the  energy  of  a  particle  at  position  $x$. The  value  of  $x$  for  which  this  is  a  minimum will provide a rest position for the particle. \n",
    "\n",
    "Or we could have a problem where we are seeking a design of something that minimises cost or maximises profit.\n",
    "\n",
    "There  are  many  ways  to  solve  such  problems,  and  again  there  is  no  general  solution.  In practical real problems, there may be no solution, a single unique solution, several solutions  or infinitely many solutions.  \n",
    "\n",
    "### Optimisation as an inversion problem\n",
    "\n",
    "One way to address the optimisation problem is to try to solve \n",
    "\n",
    "$$f'(x)=0$$\n",
    "\n",
    "for $x$. With this approach note that  we have  converted  an  optimisation  problem  into  an  inversion  problem (we are looking for the $x$ values that satisfy this equation - this will give us the [stationary points](https://en.wikipedia.org/wiki/Stationary_point) of the problem).\n",
    "\n",
    "\n",
    "### Inversion as an optimisation problem\n",
    "\n",
    "In practice, it is often the case that in order to solve an inversion  problem, it is instead converted into an optimisation problem. \n",
    "\n",
    "For example, we can define a scalar misfit function measuring in some sense the difference between model predictions and observations and seek to iteratively minimise this misfit. \n",
    "\n",
    "The least squares error is an example of this. We showed previously (*) that we could write down the general solution to this problem. But it's only feasible to use that approach for small cases. For larger problems we will need iterative solution methods such as in the tidal example above.    \n",
    "\n",
    "<br>\n",
    "\n",
    "(*) From last lecture an over-determined problem $V\\boldsymbol{a} = \\boldsymbol{y}$ has least-squares approximate solution  $\\boldsymbol{a} = (V^TV)^{-1}V^T\\boldsymbol{y}$."
   ]
  },
  {
   "cell_type": "markdown",
   "metadata": {},
   "source": [
    "### Optimisation - simple example\n",
    "\n",
    "Consider the problem: find $\\boldsymbol{x}\\equiv (x,y)$ which minimises the function\n",
    "\n",
    "$$ f(\\boldsymbol{x}) = 1+2x + 4y + x^2+2xy+3y^2$$\n",
    "\n",
    "\n",
    "The following image shows a contour plot of the function, and the red star indicates the $(x,y)$ location of the minima\n",
    "\n",
    "<img src=\"./figures/simple_optimisation.png\" width=300x>\n",
    "\n",
    "A homework exercise asks you to compute the minima and to generate this image."
   ]
  },
  {
   "cell_type": "markdown",
   "metadata": {},
   "source": [
    "### Optimisation (more complex)\n",
    "\n",
    "The following movie shows iterations from an optimisation problem where our task is to maximise the power generated by an array of 256 individual tidal turbines. At every iteration a shallow water solver computes the flow field and the power of the array. The design parameters are then the $(x,y)$ location of each of the turbines.\n",
    "\n",
    "<br>\n",
    "\n",
    "For a publication on this see\n",
    "\n",
    "- <https://www.sciencedirect.com/science/article/pii/S0960148113004989>\n",
    "\n",
    "<br>\n",
    "<br>\n",
    "\n",
    "<video controls loop width=\"600\" src=\"animations/array.mp4\"/>\n",
    "\n"
   ]
  },
  {
   "cell_type": "markdown",
   "metadata": {},
   "source": [
    "# More on forward and inverse problems \n",
    "\n",
    "## Abstract problem setting\n",
    "\n",
    "Building on the above motivation and various examples, let's think a bit more about the problem at hand.\n",
    "\n",
    "Our starting point is a model for a system that can be written as \n",
    "\n",
    "$$G(\\boldsymbol{m}) = \\boldsymbol{d}$$\n",
    "\n",
    "where $G$ is a function or operator that produces the output, or data,  vector $\\boldsymbol{d}$ for given input parameters $\\boldsymbol{m}$.  So $G$ can be thought of as a numerical model describing the underlying \"physics\", as well as things like the geometry and boundary conditions etc.\n",
    "\n",
    "Generation of the forward model often involves the discretisation of (partial differential equations) and actually solving the **forward model**: given $\\boldsymbol{m}$ compute $\\boldsymbol{d}$, may require linear or nonlinear solves so may be very costly, but in general is straightforward once a stable and robust $G$ has been constructed.\n",
    "\n",
    "<br>\n",
    "\n",
    "The **inverse problem** asks the inverse model, for a given (e.g. set of observational data $\\boldsymbol{d}$) what can we conclude about the model parameters $\\boldsymbol{m}$, i.e. conceptually can we do thie following:\n",
    "\n",
    "$$\\boldsymbol{m} = G^{-1}(\\boldsymbol{d}) $$\n",
    "\n",
    "where in general we won't be able to explicitly form the inverse operator $G^{-1}$. Remember at the stage of thinking $G$ isn't necessarily just a matrix, it could be a complex computer code, and so writing $G^{-1}$ hides the complexities involved in actually performing this inversion in practice.\n",
    "\n",
    "<br>\n",
    "\n",
    "Additionally, it will often be the case that the inverse equation has no exact  solution  at  all  (**non-existence**),  or  that  there  will be infinitely many solutions that all fit the data equally accurately (**non-uniqueness**), or that the solution for the model parameter $\\boldsymbol{m}$ varies  significantly when only very small changes are made to  the input data $\\boldsymbol{d}$ (**instability**). \n",
    "\n",
    "If you think back to the lecture I taught on PDEs - what we're saying here is that we will not in general, for perhaps a variety of reasons, have a well-posed problem to solve.\n",
    "\n",
    "<br>\n",
    "\n",
    "We also need to contend with the fact that in the real world, observations always contain errors, as well as the fact that our representation of the physics $G$ will be imperfect, or our mesh resolution will be finite and some processes will be missing.  We therefore need to instead think about the relation\n",
    "\n",
    "$$\\boldsymbol{d} = G(\\boldsymbol{m}) + \\boldsymbol{e}$$\n",
    "\n",
    "where $\\boldsymbol{e}$  represents the errors in the observations and/or model from all contributions which we may be able to estimate but do not know explicitly.\n",
    "\n",
    "We need to consider how such errors might impact upon the inversion process and its accuracy."
   ]
  },
  {
   "cell_type": "markdown",
   "metadata": {},
   "source": [
    "## Real world problems\n",
    "\n",
    "Numerical inversion then is the theory and practice of solving equations that can be represented by $\\boldsymbol{d} = G(\\boldsymbol{m})$ or $\\boldsymbol{d} = G(\\boldsymbol{m}) + \\boldsymbol{e}$, and that produces useful solutions for $\\boldsymbol{m}$ efficiently, despite the problems of the non-existence, non-uniqueness, instability and data errors that will typically characterise these problems. \n",
    "\n",
    "Some key elements of real-world numerical inverse problems are: \n",
    "\n",
    "\n",
    "- Inverse problems are typically characterised by a large number of parameters that may be conceptually infinite, although in practice we will only ever be able to use a finite number of model parameters in order to be able to solve the forward problem computationally. \n",
    "\n",
    "\n",
    "- The number of observed data will always be finite. \n",
    "\n",
    "\n",
    "- Observed data always contain measurement errors and noise.\n",
    "\n",
    "\n",
    "- It will usually be impossible to estimate perfectly all the model parameters from data that are likely to be inaccurate, insufficient or inconsistent, but it is possible nonetheless to extract useful and sometimes powerful constraints about the values of these parameters and/or the relationships between them.\n",
    "\n",
    "\n",
    "- We will almost always have additional prior information about the plausibility of model parameters and their inter-relationships. \n",
    "\n",
    "\n",
    "- Most important problems will be non-linear.\n",
    "\n",
    "\n",
    "- The computational cost of the forward problem is likely to be significant so that trial-and-error methods are likely to be impractical.\n",
    "\n",
    "\n",
    "- Understanding and quantifying the uncertainty in the model parameters may be as important as estimating their values.\n"
   ]
  },
  {
   "cell_type": "markdown",
   "metadata": {},
   "source": [
    "## Incomplete, inconsistent and inadequate data \n",
    "\n",
    "In the solution of any inverse problem, three important questions arise: \n",
    "\n",
    "\n",
    "1. Does the solution exist? \n",
    "\n",
    "\n",
    "2. Is the solution unique? \n",
    "\n",
    "\n",
    "3. Is the solution stable? \n",
    "\n",
    "\n",
    "From a physical point of view, we will often know that there must be a solution since we are likely to be studying real physical systems.  But from the mathematical/computational point of view, given the errors in the observations as well as in $G$, there may be no model parameters at all that exactly fits the observed data. \n",
    "\n",
    "If there is a model parameter set that fits the data, say $G(\\boldsymbol{m}_1) = \\boldsymbol{d}$, then that solution will not be unique if there is also another model parameter set $\\boldsymbol{m}_2$  such that $G(\\boldsymbol{m}_2) = \\boldsymbol{d}$.  In this case, it will be impossible to distinguish these two model parameter sets from the given data, though we may have good a priori reasons to prefer one over the other.  \n",
    "\n",
    "The  final  question  of  stability  is  critical  in  inversion  theory.    Suppose  that  two  different model parameter sets $\\boldsymbol{m}_1$  and $\\boldsymbol{m}_2$   generate two different datasets  $\\boldsymbol{d}_1$  and $\\boldsymbol{d}_2$.  Also assume that these two sets of parameters  are  very  different,  while  the  difference  between  the  two  datasets  is  small  and  lies within the noise level $\\boldsymbol{e}$.  In this case, if we attempt to fit the observed data exactly, then the resulting parameter sets may vary dramatically but solely as a result of changes in the noise. \n",
    "\n",
    "In  the  early  part  of  the  twentieth  century,  it  was  widely  considered  that  a  mathematical problem  was  formulated  correctly  if  all  the  three  questions  posed  above  had  a  positive answer.  A mathematical problem was  considered well-posed if its solution did exist, was unique,  and  was  stable.    In  contrast,  a  problem  was  ill-posed,  and  was  not  considered physically or mathematically meaningful, if its solution did not exist, or was not unique, or was not a continuous function of the data (i.e. if for a small perturbation of the data there corresponded an arbitrarily large perturbation of the solution).   \n",
    "\n",
    "It turns out that the majority of practical problems in many areas of mathematical physics and many  other  disciplines  are  ill-posed.    Fortunately,  such  ill-posed  problems  can  be  both physically  and  mathematically  meaningful,  and  they  can  be  solved  to  provide  useful,  if necessarily imprecise, solutions. \n"
   ]
  },
  {
   "cell_type": "markdown",
   "metadata": {},
   "source": [
    "## Linear and nonlinear problems\n",
    "\n",
    "In linear problems, there is a linear relationship between the model parameters and the data.  \n",
    "\n",
    "Linear problems by definition obey the relations\n",
    "\n",
    "$$\n",
    "\\begin{align*}\n",
    "G(\\boldsymbol{m}_1 + \\boldsymbol{m}_2) &= \\boldsymbol{d}_1 + \\boldsymbol{d}_2\\\\\n",
    "G(\\alpha \\boldsymbol{m}) &= \\alpha G(\\boldsymbol{m})\n",
    "\\end{align*}\n",
    "$$\n",
    "\n",
    "or equivalently\n",
    "\n",
    "$$\n",
    "\\begin{align*}\\boldsymbol{d}_{\\boldsymbol{m}_1 + \\boldsymbol{m}_2} &= \\boldsymbol{d}_{\\boldsymbol{m}_1} + \\boldsymbol{d}_{\\boldsymbol{m}_2}\\\\\n",
    "\\boldsymbol{d}_{\\alpha\\boldsymbol{m}} &= \\alpha \\boldsymbol{d}_{\\boldsymbol{m}}\n",
    "\\end{align*}\n",
    "$$\n",
    "\n",
    "\n",
    "Thus,  in  a  linear  problem,  if  the  magnitude  of  the  model  parameters  is  changed  then  the magnitude of the observed data is changed by an equivalent factor (scalability), and if two models are summed then the new data produced will be simply the sum of the two original datasets (superposition). \n",
    "\n",
    "<br>\n",
    "\n",
    "For all linear problems, our forward model can be written as \n",
    "\n",
    "$$G\\, \\boldsymbol{m} = \\boldsymbol{d}$$\n",
    "\n",
    "where now $G$ is a matrix.  \n",
    "\n",
    "\n",
    "<br>\n",
    "\n",
    "\n",
    "However, we have a crucial new aspect now - $G$ will NOT typically be a square matrix - that is, the number of equations and unknowns  will  typically  not  be  the  same.    Even  when  $G$  is  square,  it  will  often  also  be singular so that the inverse problem will not often have an immediately straightforward solution.  Remember that for a singular square matrix we may have zero or infinitely many solutions depending on the exact nature of the data/RHS vector - more on this next lecture.\n",
    "\n",
    "<br>\n",
    "\n",
    "\n",
    "In  contrast,  non-linear  problems  do  not  obey  superposition  and  scalability,  so  that  if  the magnitude of the model parameters is varied, then the data will not simply be changed by an equivalent  scaling  in  magnitude,  and  if  two  models  are  combined  by  addition  then  the resultant  data  will  not  be  a  simple  addition  of  the  two  original  datasets.    \n",
    "\n",
    "Many  important physical problems are non-linear, and in general the solution of non-linear problems is more difficult than the solution of linear problems.  \n",
    "\n",
    "Fortunately it is often possible to solve non-linear  problems  by  solving  a  sequence  of  linear  problems  that  approximate  the  non-linear problem. "
   ]
  },
  {
   "cell_type": "markdown",
   "metadata": {},
   "source": [
    "### Examples\n",
    "\n",
    "Two important examples of inversion problems (that are often cast as optimisation problems) are data assimilation and imaging.\n",
    "\n",
    "- [Data assimilation](https://en.wikipedia.org/wiki/Data_assimilation) (e.g. of the atmosphere in numerical weather prediction) seeks to combine a model with observational data for lots of different goals, e.g. to provide the best estimate for the initial condition of a weather forecast.\n",
    "\n",
    "\n",
    "- [Imaging](https://en.wikipedia.org/wiki/Inverse_problem) (e.g. medical or geophysical) seeks to reveal hidden internal details (of bodies or the Earth) given observational data of travel times of some sort of wave (e.g. ultrasound scans) that is transmitted through the body being imaged. The underlying model $G$ is then often a wave equation solver.\n",
    "\n"
   ]
  },
  {
   "cell_type": "markdown",
   "metadata": {},
   "source": [
    "# An example - straight-ray tomography\n",
    "\n",
    "[\"Tomography is imaging by sections or sectioning, through the use of any kind of penetrating wave\"](https://en.wikipedia.org/wiki/Tomography).\n",
    "\n",
    "Most acoustic and seismic inverse problems are non-linear (since changing the model parameters - the structure of the body being imaged will change the ray path (e.g. due to refraction or reflections) the wave travels along, and hence change the arrival times (the data) in a nonlinear manner).  \n",
    "\n",
    "However, if we assume ray that paths do not vary with the \"model\" (which we could justify if we assume that we don't change the $\\boldsymbol{m}$ values very much), and if the data are travel times and the model is composed of [slowness](https://en.wikipedia.org/wiki/Slowness_(seismology)) (reciprocal of velocity) values, then the problem is linear. \n",
    "\n",
    "Consider the following example\n",
    "\n",
    "<img src=\"./figures/straight_ray_tomog_schematic.png\" width=300x>\n",
    "\n",
    "\n",
    "Suppose that a wall is assembled from an array of bricks as above, and that each brick is composed of a different type of clay.  If the acoustic velocities of the different clays differ, then one might attempt to distinguish the different kinds of bricks by measuring the travel time of sound across the various rows and columns of bricks, in the wall. The data in this problem are $n = 8$ measurements of travel time (based on there being 4 rows and 4 columns) \n",
    "\n",
    "$$ \\boldsymbol{d} = [T_1 , T_2 , T_3 , \\ldots, T_8]^T$$\n",
    "\n",
    "We will assume that each brick is composed of a uniform material and that the travel time of sound  across  each  brick  is  proportional  to  the  width  and  height  of  the  brick  $h$.  The proportionality factor is the brick’s slowness $s_i$, giving 16 model parameters \n",
    "\n",
    "$$ \\boldsymbol{s} = [s_1 , s_2 , s_3 , \\ldots, s_{16}]^T$$\n",
    "\n",
    "where the ordering of the model parameters is according to the numbering scheme in the schematic above.  The  travel  time  of  acoustic  waves  through  the  rows  and  columns  of  a  square  array  of bricks is measured with the acoustic source and receiver placed on the edges of the square.   \n",
    "\n",
    "The set of linear simultaneous equations that we must now solve are: \n",
    "\n",
    "$$\n",
    "\\begin{align*}\n",
    "hs_1+hs_2 + hs_3 + hs_4 &= T_1\\\\\n",
    "hs_5+hs_6 + hs_7 + hs_8 &= T_2\\\\\n",
    "&\\vdots \\\\\n",
    "hs_4+hs_8 + hs_{12} + hs_{16} &= T_8\n",
    "\\end{align*}\n",
    "$$\n",
    "\n",
    "where we order our firing of waves from left to right, starting at the top moving down, and then from top to bottom starting at the left and moving right.\n",
    "\n",
    "These algebraic equations can be arranged as a matrix equation $G\\, \\boldsymbol{m} = \\boldsymbol{d}$ of the form\n",
    "\n",
    "$$\n",
    "\\begin{pmatrix}\n",
    "h & h & h & h & 0 & 0 & 0 & 0 & 0 & 0 & 0 & 0 & 0 & 0 & 0 & 0\\\\\n",
    "0 & 0 & 0 & 0 & h & h & h & h & 0 & 0 & 0 & 0 & 0 & 0 & 0 & 0\\\\\n",
    "\\vdots & \\vdots & \\vdots & \\vdots & \\vdots & \\vdots & \\vdots & \\vdots & \\vdots & \\vdots & \\vdots & \\vdots & \\vdots & \\vdots & \\vdots & \\vdots \\\\\n",
    "0 & 0 & 0 & h & 0 & 0 & 0 & h & 0 & 0 & 0 & h & 0 & 0 & 0 &h     \\\\\n",
    "\\end{pmatrix}\n",
    "\\begin{pmatrix}\n",
    "s_1\\\\\n",
    "s_2\\\\\n",
    "\\vdots \\\\\n",
    "s_{16}\n",
    "\\end{pmatrix}\n",
    "=\n",
    "\\begin{pmatrix}\n",
    "T_1\\\\\n",
    "T_2\\\\\n",
    "\\vdots \\\\\n",
    "T_8\n",
    "\\end{pmatrix}.\n",
    "$$\n",
    "\n",
    "This tomography problem is linear because the assumptions we have made were designed to make the travel times depend linearly upon the model parameters.  In addition, slowness rather than velocity is  used for the  model parameters, and slowness  has a linear relationship to  travel time while velocity does not.   \n",
    "\n",
    "X-ray  tomography  used  in  medical  imaging,  and  radar  tomography  used  in  atmospheric physics,  typically  also  assume  ray  paths  that  are  model  independent  and  employ  model parameterisations that are related linearly to the data, and so are able to use linear inversion methods.  In seismic tomography in the interior of the Earth, the independence of the ray path and  the  velocity  model  is  generally  a  poor  assumption  -  in  reality  ray  paths  change significantly when seismic models change, so that linear inversion is not normally adequate for seismic tomography. \n",
    "\n",
    "We will return to a version of this example in a later lecture as well as more on this topic in the practical parts of this module."
   ]
  },
  {
   "cell_type": "markdown",
   "metadata": {},
   "source": [
    "How is this problem as formulated above different to the curve-fitting problem from earlier which could be written as\n",
    "\n",
    "$$\n",
    "\\begin{pmatrix}\n",
    "1 & x_0 & x_0^2 \\\\\n",
    "1 & x_1 & x_1^2 \\\\\n",
    "\\vdots & \\vdots & \\vdots \\\\\n",
    "1 & x_5 & x_5^2\n",
    "\\end{pmatrix}\n",
    "\\begin{pmatrix}\n",
    "a_0\\\\\n",
    "a_1\\\\\n",
    "a_2\n",
    "\\end{pmatrix}\n",
    "=\n",
    "\\begin{pmatrix}\n",
    "y_0\\\\\n",
    "y_1\\\\\n",
    "y_2\\\\\n",
    "y_3\\\\\n",
    "y_4\\\\\n",
    "y_5\n",
    "\\end{pmatrix},\n",
    "$$\n",
    "\n",
    "which led to us developing the least squares solution?\n",
    "\n",
    ".\n",
    ".\n",
    ".\n",
    "\n",
    "The answer is over- vs under-determined problems - the curve-fitting example is one where we have more equations than unknowns (over-determined), whereas this tomography example is one where we have more unknowns than equations (under-determined).  We'll consider these different types of problems in more detail in the next few lectures."
   ]
  },
  {
   "cell_type": "markdown",
   "metadata": {},
   "source": [
    "# Linear (or matrix) systems (a reminder on square systems)\n",
    "\n",
    "Consider the problem written in the form\n",
    "\n",
    "$$A\\boldsymbol{x}=\\boldsymbol{b},$$\n",
    "\n",
    "where for a given $m\\times n$ matrix $A$ and a given $m\\times 1$ right hand side vector $\\boldsymbol{b}\\;$ we want to find an $n\\times 1$ vector $\\boldsymbol{x}\\;$.\n",
    "\n",
    "Let's start by considering the square problem, i.e. where $m=n$. \n",
    "\n",
    "This was the case we considered in the *Numerical Methods module* for example where we considered topics such as the use of Gaussian elimination to solve problems of this type.\n",
    "\n",
    "In this module we are particularly interested in the case where the matrix may not be square, i.e. where the vectors $\\boldsymbol{x}$ and $\\boldsymbol{b}$ are of different lengths.\n",
    "\n",
    "In all situations it's important that we understand **whether our problem has a solution** and **whether that solution is unique**."
   ]
  },
  {
   "cell_type": "markdown",
   "metadata": {},
   "source": [
    "## A simple square example\n",
    "\n",
    "Recall that we can re-write a system of simultaneous (linear) equations in matrix form.  \n",
    "\n",
    "For example, consider the following example:\n",
    "\n",
    "\\begin{align}\n",
    "  2x + 3y &=& 7 \\\\[5pt]\n",
    "   x - 4y &=& 3,\n",
    "\\end{align} \n",
    "\n",
    "this is completely equivalent to the following problem written in matrix form:\n",
    "\n",
    "$$\n",
    "\\begin{pmatrix}\n",
    "    2 & 3 \\\\\n",
    "    1 & -4  \n",
    "\\end{pmatrix}  \n",
    "\\begin{pmatrix}\n",
    "    x \\\\\n",
    "    y \n",
    "\\end{pmatrix}  =\n",
    "\\begin{pmatrix}\n",
    "    7 \\\\\n",
    "    3 \n",
    "\\end{pmatrix}.\n",
    "$$\n",
    "\n",
    "Indeed when you see or are given a linear system, i.e. an $A$ and a $\\boldsymbol{b}$, it's often helpful to think about the set of linear equations it's representing. \n",
    "[This, I think, may help us appreciate what row operations do (and are allowed) and why we need to treat the RHS vector consistently.]\n",
    "\n",
    "A collection of multiple linear equations for multiple unknowns is the general situation that will lead us to need to solve a matrix system; we may easily have a scenario where we have billions of unknowns."
   ]
  },
  {
   "cell_type": "markdown",
   "metadata": {},
   "source": [
    "## A simple example\n",
    "\n",
    "Let's go back to our simple example\n",
    "\n",
    "\\begin{align}\n",
    "  2x + 3y &=& 7 \\\\[5pt]\n",
    "   x - 4y &=& 3\n",
    "\\end{align} \n",
    "\n",
    "We can rearrange the first of these to\n",
    "\n",
    "$$y = -\\frac{2}{3} x + \\frac{7}{3}$$\n",
    "\n",
    "which we recognise as the equation of a straight line in 2D space: $y=mx +c$ where $m$ is the slope and $c$ is the intercept.\n",
    "\n",
    "Similarly the second equation can be rearranged into the standard form for a straignt line in 2D.\n"
   ]
  },
  {
   "cell_type": "markdown",
   "metadata": {},
   "source": [
    "\n",
    "## Expanding the geometrical thinking\n",
    "\n",
    "Let's think through another interpretation which further utilises geometrical thinking. \n",
    "\n",
    "Consider all of $(x,y)$ space where $x$ and $y$ are independent variables that are free to vary arbitrarily - they will map out, or cover/span, all of 2D space.  \n",
    "\n",
    "By stating that $ 2x + 3y = 7 $ we are now saying that $x$ and $y$ are not both independent - they cannot vary arbitrarily, one is effectively dependent on the other. \n",
    "\n",
    "For a linear system this one equation *restricts*, or *constrains*, us to a line in 2D (with a linear equation containing $x$, $y$ and $z$ variables constraining us to a plane in 3D etc). \n",
    "\n",
    "Indeed we can think about the equation as a constraint, we might even simply call it a constraint rather than an equation.\n",
    "\n",
    "For nonlinear problems we can still think of the model as a mapping, and still consider this in the form of a series of constraints over what potential output values our input data gets mapped to.\n",
    "\n",
    "Above we wrote this as $y\\equiv y(x)$ ($y$ is a function of $x$) to emphasise a point, but of course we could have just as easily rearranged to $x\\equiv x(y)$. If instead of $2x + 3y = 7$ we had the equation  $2x = 7$ then of course we couldn't rearrange into the form $y\\equiv y(x)$, but trivially can into the form $x\\equiv x(y)$ (a constant in this case) - this just reflects the fact that this particular equation example represents a vertical line in 2D space ($m=\\infty$)!\n",
    "\n",
    "Of course our second equation can also be interpreted as a line in 2D space.\n",
    "\n",
    "Let's go back to our original example and plot the two lines that are defined by our two equations/constraints."
   ]
  },
  {
   "cell_type": "code",
   "execution_count": 2,
   "metadata": {
    "scrolled": false
   },
   "outputs": [
    {
     "data": {
      "text/plain": [
       "<matplotlib.legend.Legend at 0x1105f5be0>"
      ]
     },
     "execution_count": 2,
     "metadata": {},
     "output_type": "execute_result"
    },
    {
     "data": {
      "image/png": "[encoded data removed]",
      "text/plain": [
       "<Figure size 500x500 with 1 Axes>"
      ]
     },
     "metadata": {},
     "output_type": "display_data"
    }
   ],
   "source": [
    "x = np.linspace(-1,5,100)\n",
    "y1 = -(2./3.)*x + (7./3.)\n",
    "y2 = (1./4.)*x - (3./4.)\n",
    "\n",
    "fig = plt.figure(figsize=(5, 5))\n",
    "\n",
    "ax1 = fig.add_subplot(111)\n",
    "\n",
    "ax1.set_xlabel(\"$x$\", fontsize=14)\n",
    "ax1.set_ylabel(\"$y$\", fontsize=14)\n",
    "ax1.grid(True)\n",
    "\n",
    "ax1.plot(x,y1,'b', label='$2x+3y=7$')\n",
    "ax1.plot(x,y2,'r', label='$x-4y=3$')\n",
    "\n",
    "ax1.legend(loc='best', fontsize=14)"
   ]
  },
  {
   "cell_type": "markdown",
   "metadata": {},
   "source": [
    "The blue line maps out all combinations of $x$ and $y$ values that satisfy the first equation/constraint, and the red all the $x$ and $y$ values that satisfy the second.\n",
    "\n",
    "So in solving the system of simultaneous equations, or equivalently solving the corresponding matrix system, we are asking the question what $x$ and $y$ values satisfy BOTH equations (or constraints)?\n",
    "\n",
    "\n",
    "From the image above we see that **there is a solution** (at the intersection) and it is clearly **unique** (there is only one intersection), for these particular equations. This is the only combination of $x$ and $y$ values that satisfy BOTH equations/constraints.\n",
    "\n",
    "\n",
    "In 2D for this example, one constraint restricts our 2D space of $x,y$ values to a 1D subset, the other to another 1D subset, combined they restrict the 2D space down to 0D, i.e. a single point - our unique solution.\n",
    "\n",
    "\n",
    "But of course in 2D there are two other possible scenarios - what are these?  Can you construct suitable pairs of equations that demonstrate these possibilities, and the corresponding plots to help explain what is going in visually?  .... see the exercises."
   ]
  },
  {
   "cell_type": "markdown",
   "metadata": {},
   "source": [
    "## Solving a general linear system\n",
    "\n",
    "In this simple $2\\times 2$ case we can find the solution via the above geometric method, or we can substitute one equation into the other to solve the system:\n",
    "\n",
    "\\begin{aligned}\n",
    "  2x + 3y &=& 7 \\\\\n",
    "   x - 4y &=& 3\n",
    "\\end{aligned} \n",
    "\n",
    "Lots of ways we could do this, but as $x$ is already on its own in the second equation perhaps easiest (as it delays the need to deal with fractions) to rearrange and substitute $x=3+4y$ into the first:\n",
    "\n",
    "$$ 2x + 3y = 7 \\quad\\implies\\quad 2(3+4y)+3y=7 \\quad\\implies\\quad  \n",
    "$$\n",
    "$$(2\\times 4 + 3)y=7 - 2\\times 3  \\quad\\implies\\quad y = \\frac{1}{11} $$\n",
    "\n",
    "Then substitute this back into one of the equations to find $x$, again easiest option is the second:\n",
    "\n",
    "$$x=3+4y = 3+4\\times \\frac{1}{11} = \\frac{37}{11}$$\n",
    "\n",
    "But we can't really use either of these approaches (plotting or substitution) if our system is much larger in dimension - what if we had billions of unknowns (which on today's computers are problem sizes we would certainly be wanting to solve.)\n",
    "\n",
    "We can check our solution to the $2\\times 2$ problem by adding this point we just derived to our plot and comfirm if it agrees with the intersection."
   ]
  },
  {
   "cell_type": "code",
   "execution_count": 3,
   "metadata": {
    "scrolled": false
   },
   "outputs": [
    {
     "data": {
      "text/plain": [
       "<matplotlib.legend.Legend at 0x1111d3890>"
      ]
     },
     "execution_count": 3,
     "metadata": {},
     "output_type": "execute_result"
    },
    {
     "data": {
      "image/png": "[encoded data removed]",
      "text/plain": [
       "<Figure size 500x500 with 1 Axes>"
      ]
     },
     "metadata": {},
     "output_type": "display_data"
    }
   ],
   "source": [
    "x = np.linspace(-1,5,100)\n",
    "y1 = -(2./3.)*x + (7./3.)\n",
    "y2 = (1./4.)*x - (3./4.)\n",
    "\n",
    "fig = plt.figure(figsize=(5, 5))\n",
    "\n",
    "ax1 = fig.add_subplot(111)\n",
    "\n",
    "ax1.set_xlabel(\"$x$\", fontsize=14)\n",
    "ax1.set_ylabel(\"$y$\", fontsize=14)\n",
    "ax1.grid(True)\n",
    "\n",
    "ax1.plot(x,y1,'b', label='$2x+3y=7$')\n",
    "ax1.plot(x,y2,'r', label='$x-4y=3$')\n",
    "ax1.plot(37./11,1./11, 'ko', label='Our solution')\n",
    "\n",
    "ax1.legend(loc='best', fontsize=14)"
   ]
  },
  {
   "cell_type": "markdown",
   "metadata": {},
   "source": [
    "Success!!"
   ]
  },
  {
   "cell_type": "markdown",
   "metadata": {},
   "source": [
    "## Matrix inverse\n",
    "\n",
    "For a square $n\\times n$ matrix $A$, its inverse is defined as the matrix $B$ with the same dimensions as $A$ that satisfies\n",
    "\n",
    "$$AB = BA = I$$\n",
    "\n",
    "where $I$ is the identity matrix of size $n\\times n$ (sometimes to explicitly indicate its dimension we would write $I_n$) - see a couple of cells below for the formal definition.\n",
    "\n",
    "That is if we pre- or post-multiply $A$ by this matrix we get the identity matrix. "
   ]
  },
  {
   "cell_type": "markdown",
   "metadata": {},
   "source": [
    "Such a matrix $B$, if its exists, is called the inverse of $A$ and denoted $A^{-1}$. Note that  $(A^{-1})^{-1} = A$.\n",
    "\n",
    "The action of taking the inverse can be written $\\text{inv}(A)$, so for example $\\text{inv}(\\text{inv}(A)) = A$.\n",
    "\n",
    "Since $AB \\ne BA$ in general, then for non-square matrices it is certainly possible to find a matrix $B$ such that $AB=I$ but $BA\\ne I$. In this case we say that $B$ is a *right inverse*. Similar definition for *left inverse*. \n",
    "\n",
    "For square matrices a left inverse (it it exists) is also the right inverse and vice-versa."
   ]
  },
  {
   "cell_type": "markdown",
   "metadata": {},
   "source": [
    "### Properties of the matrix inverse\n",
    "\n",
    "If a matrix has an inverse, then that inverse is unique.\n",
    "\n",
    "How could you prove a result like this:\n",
    "\n",
    "consider a matrix $A$ and suppose $B$ and $C$ are both inverses, i.e.\n",
    "\n",
    "$$AB = BA = I\\quad\\text{and}\\quad AC = CA = I$$\n",
    "\n",
    "then it must follow that\n",
    "\n",
    "$$B = BI = B(AC) = (BA)C = IC = C$$\n",
    "\n",
    "Hence the inverse is unique."
   ]
  },
  {
   "cell_type": "markdown",
   "metadata": {},
   "source": [
    "The following properties of inverses hold\n",
    "\n",
    "For invertible matrices $A$ and $B$ (of the same square size) and scalar $\\alpha\\ne 0$\n",
    "\n",
    "\n",
    "1. $\\alpha A$ is invertible and $(\\alpha A)^{-1} = \\alpha^{-1} A^{-1}$\n",
    "\n",
    "\n",
    "2. $AB$ is invertible and $(AB)^{-1} = B^{-1}A^{-1}$\n",
    "\n",
    "\n",
    "3. $A^{-1}$ is invertible and $(A^{-1})^{-1}=A$\n",
    "\n",
    "\n",
    "4. $A^{T}$ is invertible and $(A^{T})^{-1}=(A^{-1})^T$\n",
    "\n",
    "\n",
    "As an exercise you can check these through some example using NumPy."
   ]
  },
  {
   "cell_type": "code",
   "execution_count": 4,
   "metadata": {},
   "outputs": [
    {
     "name": "stdout",
     "output_type": "stream",
     "text": [
      "True\n",
      "True\n",
      "True\n",
      "True\n"
     ]
    }
   ],
   "source": [
    "# Check properties of matrix inverses\n",
    "A = np.array([[2, 3], [1, -4]])\n",
    "B = np.array([[4, 5], [6, 7]])\n",
    "alpha = 2.0\n",
    "\n",
    "# 1\n",
    "alphaA = alpha * A\n",
    "invAlphaA = np.linalg.inv(alphaA)\n",
    "print(np.allclose(invAlphaA, (1./alpha) * np.linalg.inv(A)))\n",
    "\n",
    "# 2\n",
    "AB = A @ B\n",
    "invAB = np.linalg.inv(AB)\n",
    "print(np.allclose(invAB, np.linalg.inv(B) @ np.linalg.inv(A)))\n",
    "\n",
    "#3\n",
    "invA = np.linalg.inv(A)\n",
    "invinvA = np.linalg.inv(invA)\n",
    "print(np.allclose(invinvA, A))\n",
    "\n",
    "# 4\n",
    "transA = A.T\n",
    "invtransA = np.linalg.inv(transA)\n",
    "print(np.allclose(invtransA, np.linalg.inv(A).T))\n"
   ]
  },
  {
   "cell_type": "markdown",
   "metadata": {},
   "source": [
    "### Using the inverse matrix to solve a linear system\n",
    "\n",
    "**IF** we have the inverse matrix, then to solve the matrix equation \n",
    "\n",
    "$$ A\\boldsymbol{x}=\\boldsymbol{b} $$\n",
    "\n",
    "we can simply multiply both sides by the inverse of the matrix $A$:\n",
    "\n",
    "\\begin{align}\n",
    "A\\boldsymbol{x} & = \\boldsymbol{b}\\\\\n",
    "\\implies A^{-1}A\\boldsymbol{x} & = A^{-1}\\boldsymbol{b}\\\\\n",
    "\\implies I\\boldsymbol{x} & = A^{-1}\\boldsymbol{b}\\\\\n",
    "\\implies \\boldsymbol{x} & = A^{-1}\\boldsymbol{b}\n",
    "\\end{align}\n",
    "\n",
    "so we can find the solution $\\boldsymbol{x}$ by multiplying the inverse of $A$ with the RHS vector $\\boldsymbol{b}$."
   ]
  },
  {
   "cell_type": "markdown",
   "metadata": {},
   "source": [
    "#### The inverse for our simple example\n",
    "\n",
    "Note that for our $2\\times 2$ case, when we went through the steps of substituting one equation into another to solve the system, this actually pretty much gave us enough information to write down the inverse matrix.\n",
    "\n",
    "Let's check that we do indeed have an inverse:"
   ]
  },
  {
   "cell_type": "code",
   "execution_count": 5,
   "metadata": {
    "scrolled": false
   },
   "outputs": [
    {
     "name": "stdout",
     "output_type": "stream",
     "text": [
      "[[ 1.000000e+00 -5.551115e-17]\n",
      " [ 0.000000e+00  1.000000e+00]]\n",
      "[[1. 0.]\n",
      " [0. 1.]]\n"
     ]
    }
   ],
   "source": [
    "# our matrix\n",
    "A = np.array([[2, 3], [1, -4]])\n",
    "\n",
    "# I claim this is the inverse to that matrix\n",
    "B = (-1./11)*np.array([[-4, -3], [-1, 2]])\n",
    "\n",
    "# let's check\n",
    "print(A@B)\n",
    "print(B@A)"
   ]
  },
  {
   "cell_type": "markdown",
   "metadata": {},
   "source": [
    "## Row operations and a reminder of Gaussian elimination\n",
    "\n",
    "What did we do when we used substitution to solve our problem\n",
    "\n",
    "$$\n",
    "\\begin{align*}\n",
    "  2x + 3y &= 7 \\\\[5pt]\n",
    "   x - 4y &= 3 \n",
    "\\end{align*}\n",
    "   \\quad \\iff \\quad\n",
    "  \\begin{pmatrix}\n",
    "    2 & 3 \\\\\n",
    "    1 & -4  \n",
    "  \\end{pmatrix}\n",
    "  \\begin{pmatrix}\n",
    "    x \\\\\n",
    "    y \n",
    "  \\end{pmatrix}=\n",
    "  \\begin{pmatrix}\n",
    "    7 \\\\\n",
    "    3 \n",
    "  \\end{pmatrix}   \n",
    "$$\n",
    "\n",
    "?\n",
    "<br>\n",
    "\n",
    "We rearranged the second equation to yield $x=3+4y$ and substituted it into the first to obtain an equation that contained $y$'s only. \n",
    "\n",
    "We can achieve exactly the same thing if we subtract twice the second equation from the first: the $x$'s cancel, we get $3-2\\times (-4)$ (i.e. 11) $y$'s on the LHS, and on the RHS we get $7-2\\times 3$, i.e. 1.  \n",
    "\n",
    "Hence, we have $11y=1$ and so $y=1/11$.\n",
    "\n",
    "<br>\n",
    "\n",
    "We effectively performed what are called **row operations** on the matrix and the RHS vector. \n",
    "\n",
    "Recalling that each row of the matrix encodes an algebraic equation, we can:\n",
    "\n",
    "1. multiply each row by a non-zero scalar, \n",
    "\n",
    "2. add multiples of one row to another, \n",
    "\n",
    "3. swap rows, \n",
    "\n",
    "without changing the overall information that the rows (or the corresponding equations) are telling us (as long as we remember that we must apply the same operation to the RHS value, otherwise the equation would change!).\n",
    "\n",
    "<br>\n",
    "\n",
    "For the example above, multiplying a row by a scalar or swapping rows would not change the two lines in the plot and so not change the solution.  Adding a multiple of one row to another and replacing one row with this updated row **will** change one of the lines, **but** the intersection point won't change - let's convince ourselves of this.  \n",
    "    \n"
   ]
  },
  {
   "cell_type": "markdown",
   "metadata": {},
   "source": [
    "### Row operations do not affect the corresponding solution\n",
    "\n",
    "Our simple example was the following\n",
    "\n",
    "$$\n",
    "\\begin{align*}\n",
    "  2x + 3y &= 7 \\\\[5pt]\n",
    "   x - 4y &= 3 \n",
    "\\end{align*}\n",
    "   \\quad \\iff \\quad\n",
    "  \\begin{pmatrix}\n",
    "    2 & 3 \\\\\n",
    "    1 & -4  \n",
    "  \\end{pmatrix}\n",
    "  \\begin{pmatrix}\n",
    "    x \\\\\n",
    "    y \n",
    "  \\end{pmatrix}=\n",
    "  \\begin{pmatrix}\n",
    "    7 \\\\\n",
    "    3 \n",
    "  \\end{pmatrix}   \n",
    "$$\n",
    "\n",
    "We rearranged each to the following in order to easily draw two straight lines:\n",
    "\n",
    "\\begin{align*}\n",
    "  y &= -\\frac{2}{3}x + \\frac{7}{3} \\\\[5pt]\n",
    "  y &= \\frac{1}{4}x - \\frac{3}{4}\n",
    "\\end{align*}\n",
    "\n",
    "This gives the first image below which is just a repeat of what we plotted above."
   ]
  },
  {
   "cell_type": "code",
   "execution_count": 6,
   "metadata": {
    "scrolled": false
   },
   "outputs": [
    {
     "data": {
      "text/plain": [
       "<matplotlib.legend.Legend at 0x111191810>"
      ]
     },
     "execution_count": 6,
     "metadata": {},
     "output_type": "execute_result"
    },
    {
     "data": {
      "image/png": "[encoded data removed]",
      "text/plain": [
       "<Figure size 500x500 with 1 Axes>"
      ]
     },
     "metadata": {},
     "output_type": "display_data"
    }
   ],
   "source": [
    "x = np.linspace(-1,5,100)\n",
    "\n",
    "y1 = -(2./3.)*x + (7./3.)\n",
    "y2 = (1./4.)*x - (3./4.)\n",
    "\n",
    "fig = plt.figure(figsize=(5, 5))\n",
    "\n",
    "ax1 = fig.add_subplot(111)\n",
    "\n",
    "ax1.set_xlabel(\"$x$\", fontsize=14)\n",
    "ax1.set_ylabel(\"$y$\", fontsize=14)\n",
    "ax1.grid(True)\n",
    "\n",
    "ax1.plot(x,y1,'b', label='$2x+3y=7$')\n",
    "ax1.plot(x,y2,'r', label='$x-4y=3$')\n",
    "ax1.plot(37./11,1./11, 'ko', label='Our solution')\n",
    "\n",
    "ax1.legend(loc='best', fontsize=14)"
   ]
  },
  {
   "cell_type": "markdown",
   "metadata": {},
   "source": [
    "But now as an example let's add 3 times the second equation to the first, multiply the second by -2, and swap:\n",
    "\n",
    "$$\n",
    "\\begin{align*}\n",
    " -2x + 8y &= -6 \\\\[5pt] \n",
    "5x - 9y &= 16\n",
    "\\end{align*}\n",
    "   \\quad \\iff \\quad\n",
    "  \\begin{pmatrix}\n",
    "    -2 & 8 \\\\\n",
    "    5 & -9  \n",
    "  \\end{pmatrix}\n",
    "  \\begin{pmatrix}\n",
    "    x \\\\\n",
    "    y \n",
    "  \\end{pmatrix}=\n",
    "  \\begin{pmatrix}\n",
    "    -6 \\\\\n",
    "    16 \n",
    "  \\end{pmatrix}   \n",
    "$$\n",
    "\n",
    "rearrange each individually into the simple equation of a straight line:\n",
    "\n",
    "\\begin{align*}\n",
    "  y &= \\frac{2}{8}x - \\frac{6}{8} \\\\[5pt]\n",
    "  y &= \\frac{5}{9}x - \\frac{16}{9}\n",
    "\\end{align*}\n",
    "\n",
    "This will be our second plot below."
   ]
  },
  {
   "cell_type": "code",
   "execution_count": 7,
   "metadata": {
    "scrolled": false
   },
   "outputs": [
    {
     "data": {
      "text/plain": [
       "<matplotlib.legend.Legend at 0x1113647d0>"
      ]
     },
     "execution_count": 7,
     "metadata": {},
     "output_type": "execute_result"
    },
    {
     "data": {
      "image/png": "[encoded data removed]",
      "text/plain": [
       "<Figure size 500x500 with 1 Axes>"
      ]
     },
     "metadata": {},
     "output_type": "display_data"
    }
   ],
   "source": [
    "x = np.linspace(-1,5,100)\n",
    "\n",
    "y1 = (2./8.)*x - (6./8.)\n",
    "y2 = (5./9.)*x - (16./9.)\n",
    "\n",
    "fig = plt.figure(figsize=(5, 5))\n",
    "\n",
    "ax1 = fig.add_subplot(111)\n",
    "\n",
    "ax1.set_xlabel(\"$x$\", fontsize=14)\n",
    "ax1.set_ylabel(\"$y$\", fontsize=14)\n",
    "ax1.grid(True)\n",
    "\n",
    "ax1.plot(x,y1,'b', label='$2x+3y=7$')\n",
    "ax1.plot(x,y2,'r', label='$x-4y=3$')\n",
    "ax1.plot(37./11,1./11, 'ko', label='Our solution')\n",
    "\n",
    "ax1.legend(loc='best', fontsize=14)"
   ]
  },
  {
   "cell_type": "markdown",
   "metadata": {},
   "source": [
    "So the nature of each individual line is completely different, BUT their intersection, i.e. the point that is a member of both lines, is unchanged.\n",
    "\n",
    "So if we just want to find the solution to this problem it doesn't matter if we solve the original system\n",
    "\n",
    "$$\n",
    "  \\begin{pmatrix}\n",
    "    2 & 3 \\\\\n",
    "    1 & -4  \n",
    "  \\end{pmatrix}\n",
    "  \\begin{pmatrix}\n",
    "    x \\\\\n",
    "    y \n",
    "  \\end{pmatrix}=\n",
    "  \\begin{pmatrix}\n",
    "    7 \\\\\n",
    "    3 \n",
    "  \\end{pmatrix}   \n",
    "$$\n",
    "\n",
    "or this updated one\n",
    "\n",
    "$$\n",
    "  \\begin{pmatrix}\n",
    "    -2 & 8 \\\\\n",
    "    5 & -9  \n",
    "  \\end{pmatrix}\n",
    "  \\begin{pmatrix}\n",
    "    x \\\\\n",
    "    y \n",
    "  \\end{pmatrix}=\n",
    "  \\begin{pmatrix}\n",
    "    -6 \\\\\n",
    "    16 \n",
    "  \\end{pmatrix}   \n",
    "$$\n",
    "\n",
    "As we have seen in Numerical Methods, the value here comes when we can turn the matrix on the LHS into one that is trivial to solve the corresponding system for, e.g. the identity matrix (a diagonal matrix being almost as easy), or if we know how to do back substitution a lower triangular matrix (cf. Gaussian elimination)."
   ]
  },
  {
   "cell_type": "markdown",
   "metadata": {},
   "source": [
    "### Problems with a zero RHS\n",
    "\n",
    "Question:  what happens to the system undergoing row operations in the case when $\\boldsymbol{b} = \\boldsymbol{0}$?\n",
    "\n",
    "[It turns out (later) that this is an important question we can ask of our $A$ matrix irrespective of what the actual $\\boldsymbol{b}$ vector is.]\n",
    "\n",
    "\n",
    "<br>\n",
    "\n",
    "Suppose you do row operations to a system with a zero RHS ($A\\boldsymbol{x}=\\boldsymbol{0}$) and are able to end up with this system\n",
    "\n",
    "$$\n",
    "  \\begin{pmatrix}\n",
    "    1 & 0 \\\\\n",
    "    0 & 1  \n",
    "  \\end{pmatrix}\n",
    "  \\begin{pmatrix}\n",
    "    x \\\\\n",
    "    y \n",
    "  \\end{pmatrix}=\n",
    "  \\begin{pmatrix}\n",
    "    0 \\\\\n",
    "    0 \n",
    "  \\end{pmatrix}   \n",
    "$$\n",
    "\n",
    "what does this tell you about possible solutions to the problem $A\\boldsymbol{x}=\\boldsymbol{0}$?\n",
    "\n",
    "<br>\n",
    "<br>\n",
    "\n",
    "\n",
    "OK, now suppose instead of the final form above you end up with the following\n",
    "\n",
    "$$\n",
    "  \\begin{pmatrix}\n",
    "    1 & 0 \\\\\n",
    "    0 & 0  \n",
    "  \\end{pmatrix}\n",
    "  \\begin{pmatrix}\n",
    "    x \\\\\n",
    "    y \n",
    "  \\end{pmatrix}=\n",
    "  \\begin{pmatrix}\n",
    "    0 \\\\\n",
    "    0 \n",
    "  \\end{pmatrix}   \n",
    "$$\n",
    "\n",
    "what does this tell you about possible solutions to the problem $A\\boldsymbol{x}=\\boldsymbol{0}$?\n",
    "\n",
    "<br>  \n",
    "<br>\n",
    "\n",
    "Note that for a matrix $A$ the space $\\{\\boldsymbol{x} | A\\boldsymbol{x} = \\boldsymbol{0}\\}$ (which means the space of all possible $\\boldsymbol{x}$ vectors such that $A\\boldsymbol{x} = \\boldsymbol{0}$) is called the **null space** of $A$. \n",
    "\n",
    "<br>\n",
    "\n",
    "So note that as well as solving linear systems, row operations give us a method for calculating the null space of a matrix (for this case you do not actually need to include the RHS in the augmented matrix, as we know it can never change from the zero vector under row operations), \n",
    "\n",
    "and the dimension of the null space helps us define the rank of a matrix (see later).\n",
    "\n",
    "<br> \n",
    "\n",
    "Using row operations to find the null space and to calculate the rank are mentioned again at the end, and a worked example is given in the homework, which you should read through.\n"
   ]
  },
  {
   "cell_type": "markdown",
   "metadata": {},
   "source": [
    "### (Reduced) row echelon form of a matrix\n",
    "\n",
    "During the steps of Gaussian elimination where we perform row operation on a matrix to transform it one for which\n",
    "\n",
    "\n",
    "- all non-zero rows are above any rows of all zeros (NB. if we do have rows of all zeros then the matrix is singular), and\n",
    "\n",
    "\n",
    "- the leading coefficient in the row (first non-zero entry from the left) is always strictly to the right of the leading coefficient of the row above\n",
    "\n",
    "\n",
    "If a matrix is in this form we say that it is in [**row echelon form**](https://en.wikipedia.org/wiki/Row_echelon_form).\n",
    "\n",
    "\n",
    "<br>\n",
    "\n",
    "- If in addition the leading coefficient in any non-zero row is unity and every column containing a leading '1' has zeros everywhere else within that column, we say the matrix is in **reduced row echelon form**.\n",
    "\n"
   ]
  },
  {
   "cell_type": "markdown",
   "metadata": {},
   "source": [
    "### Solving our simple example using the inverse matrix\n",
    "\n",
    "So we have enough information now to solve our problem\n",
    "\n",
    "$$\n",
    "\\begin{align*}\n",
    "  2x + 3y &= 7 \\\\[5pt]\n",
    "   x - 4y &= 3 \n",
    "\\end{align*}\n",
    "   \\quad \\iff \\quad\n",
    "  \\begin{pmatrix}\n",
    "    2 & 3 \\\\\n",
    "    1 & -4  \n",
    "  \\end{pmatrix}\n",
    "  \\begin{pmatrix}\n",
    "    x \\\\\n",
    "    y \n",
    "  \\end{pmatrix}=\n",
    "  \\begin{pmatrix}\n",
    "    7 \\\\\n",
    "    3 \n",
    "  \\end{pmatrix}   \n",
    "$$\n",
    "\n",
    "\n",
    "Recalling the solution we calculated through substitution: $x=37/11$ and $y=1/11$, we can use to check our numerical solution.\n",
    "\n",
    "Let's calculate \n",
    "\n",
    "$$\\boldsymbol{x} = A^{-1}\\boldsymbol{b}$$"
   ]
  },
  {
   "cell_type": "code",
   "execution_count": 8,
   "metadata": {
    "scrolled": false
   },
   "outputs": [
    {
     "name": "stdout",
     "output_type": "stream",
     "text": [
      "x =  [3.363636 0.090909]\n",
      "\n",
      "Our computed solution solves the linear system (Ax == b):  True\n",
      "\n",
      "and agrees with the exact solution we computed by hand:  True\n"
     ]
    }
   ],
   "source": [
    "# form the LHS matrix\n",
    "A = np.array([[2., 3.], [1., -4.]])\n",
    "\n",
    "# form the RHS vector\n",
    "b = np.array([7., 3.])\n",
    "\n",
    "# the inverse matrix from above:\n",
    "invA = (-1./11)*np.array([[-4, -3], [-1, 2]])\n",
    "\n",
    "# compute and print our solution\n",
    "x = invA@b\n",
    "print('x = ',x)\n",
    "\n",
    "# Check our two numerical solutions using the numpy allclose function\n",
    "print('\\nOur computed solution solves the linear system (Ax == b): ', \n",
    "      np.allclose(A@x, b))\n",
    "\n",
    "# and check further that this agrees with the solution we computed by hand\n",
    "print('\\nand agrees with the exact solution we computed by hand: ', \n",
    "      np.allclose(x, [37./11., 1./11.]))"
   ]
  },
  {
   "cell_type": "markdown",
   "metadata": {},
   "source": [
    "## The determinant \n",
    "\n",
    "So for *square* linear systems (and also when finding eigenvalues/vectors), we need a method to determine whether a given matrix is invertible or not - the determinant of the matrix tells us this.\n",
    "\n",
    "The [*determinant*](https://en.wikipedia.org/wiki/Determinant) is a quantity of a square matrix which can be computed directly from its entries.\n",
    "\n",
    "It can be written as either $\\det(A)$ or $|A|$.\n",
    "\n",
    "Geometrically it gives the scaling of the volume (area in 2D) of a shape under the linear transformation represented by the matrix.\n",
    "\n",
    "If the mapped volume has zero volume, how does this fact alone tell you that the matrix can't have an inverse?\n",
    "\n",
    "[since zero volume in the mapping implies that (at least) two distinct points are mapped to the same point - we therefore do not have a well-defined inverse]."
   ]
  },
  {
   "cell_type": "markdown",
   "metadata": {},
   "source": [
    "Consider the matrix\n",
    "\n",
    "$$\n",
    "\\left(\n",
    "  \\begin{array}{rr}\n",
    "    2 & 3 \\\\\n",
    "    4 & 6  \\\\\n",
    "  \\end{array}\n",
    "\\right),\n",
    "$$\n",
    "\n",
    "for a $2 \\times 2$ matrix we can compute the determinant in our heads (or with a calculator!) - we multiply the two main diagonal entries and subtract the multiple of the off-diagonal entries:\n",
    "\n",
    "$$\\det(A) = (2\\times 6) - (3\\times 4) = 0$$\n",
    "\n",
    "Let's check this using a SciPy function for computing determinants:"
   ]
  },
  {
   "cell_type": "code",
   "execution_count": 9,
   "metadata": {
    "scrolled": false
   },
   "outputs": [
    {
     "name": "stdout",
     "output_type": "stream",
     "text": [
      "0.0\n",
      "True\n"
     ]
    },
    {
     "data": {
      "text/plain": [
       "np.True_"
      ]
     },
     "execution_count": 9,
     "metadata": {},
     "output_type": "execute_result"
    }
   ],
   "source": [
    "A = np.array( [[2, 3], [4, 6] ] )\n",
    "print(sl.det(A))\n",
    "print(np.allclose(0,sl.det(A)))\n",
    "sl.det(A)==0"
   ]
  },
  {
   "cell_type": "code",
   "execution_count": 10,
   "metadata": {
    "scrolled": false
   },
   "outputs": [
    {
     "name": "stdout",
     "output_type": "stream",
     "text": [
      "-11.0\n"
     ]
    }
   ],
   "source": [
    "# and for our linear system example above:\n",
    "A = np.array([[2, 3], [1, -4]])\n",
    "print(sl.det(A))"
   ]
  },
  {
   "cell_type": "markdown",
   "metadata": {},
   "source": [
    "The former determinant is zero (to round off) and this means that the corresponding matrix does not have an inverse, \n",
    "\n",
    "the latter is safely non-zero and hence is why we were able to find the inverse without problem."
   ]
  },
  {
   "cell_type": "markdown",
   "metadata": {},
   "source": [
    "### Properties of the determinant\n",
    "\n",
    "1. For square, equal size matrices $|AB| = |A|\\,|B|$\n",
    "\n",
    "\n",
    "2. $|A^T| = |A|$\n",
    "\n",
    "\n",
    "3. $|\\alpha A| = \\alpha^n |A|$, where $n$ is the dimension of the square matrix $A$\n",
    "\n",
    "\n",
    "4. If any row (or column) is made up of zero entries only, then the determinant of that matrix is zero\n",
    "\n",
    "\n",
    "5. The determinant is equal to the product of the eigenvalues of the matrix (where we need to multiply multiple times if an eigenvalue has an algebraic multiplicity greater than one) - so a determinant of zero is equivalent to having at least one zero eigenvalue!\n",
    "\n",
    "\n",
    "6. For an upper or lower triangular matrix, the determinant is equal to the product of the main diagonal entries (as the eigenvalues in this case are the diagonal entries!)\n",
    "\n",
    "\n",
    "<br>\n",
    "\n",
    "Exercise: you can check that all of these seem to be true through considering some concrete examples."
   ]
  },
  {
   "cell_type": "code",
   "execution_count": 11,
   "metadata": {
    "scrolled": false
   },
   "outputs": [
    {
     "name": "stdout",
     "output_type": "stream",
     "text": [
      "det(A) =  0.0\n",
      "\n",
      "Marix A is singular:  True\n"
     ]
    }
   ],
   "source": [
    "# Let's check our maths!\n",
    "A = np.array([[2., 3.], [4., 6.]])\n",
    "print('det(A) = ', sl.det(A))\n",
    "print('\\nMarix A is singular: ', np.isclose(sl.det(A), 0.))"
   ]
  },
  {
   "cell_type": "code",
   "execution_count": 12,
   "metadata": {
    "scrolled": false
   },
   "outputs": [
    {
     "name": "stdout",
     "output_type": "stream",
     "text": [
      "A = \n",
      "[[0 1 0]\n",
      " [1 2 3]\n",
      " [4 5 6]]\n"
     ]
    }
   ],
   "source": [
    "# can you do this one in your head?\n",
    "A = np.array([[0, 1, 0], [1, 2, 3], [4, 5, 6]])\n",
    "print('A = ')\n",
    "print(A)"
   ]
  },
  {
   "cell_type": "code",
   "execution_count": 13,
   "metadata": {
    "scrolled": false
   },
   "outputs": [
    {
     "name": "stdout",
     "output_type": "stream",
     "text": [
      "det(A) =  6.0\n"
     ]
    }
   ],
   "source": [
    "print('det(A) = ', sl.det(A))"
   ]
  },
  {
   "cell_type": "markdown",
   "metadata": {},
   "source": [
    "### The inverse matrix\n",
    "\n",
    "The existence of an inverse to a square matrix is equivalent to whether or not that matrix's determinant is zero or not.\n",
    "\n",
    "If the determinant is non-zero then it does have an inverse.\n",
    "\n",
    "For a $2\\times 2$ matrix an expression for the inverse of a matrix\n",
    "\n",
    "$$A = \n",
    "\\begin{pmatrix}\n",
    "    a & b\\\\\n",
    "    c & d\n",
    "\\end{pmatrix}$$\n",
    "\n",
    "is\n",
    "\n",
    "$$A^{-1} = \\frac{1}{|A|}\n",
    "\\begin{pmatrix}\n",
    "    d & -b\\\\\n",
    "    -c & a\n",
    "\\end{pmatrix}$$\n",
    "\n",
    "How is the inverse existing/not-existing depending on whether the determinant is zero or not consistent with this expression?\n",
    "\n",
    "Similar expressions exist for larger square matrices, but they are harder to evaluate."
   ]
  },
  {
   "cell_type": "markdown",
   "metadata": {},
   "source": [
    "### Using SciPy to compute the inverse matrix\n",
    "\n",
    "A quick review of some useful SciPy/NumPy functions.\n",
    "\n",
    "Let's try a $3\\times 3$ example."
   ]
  },
  {
   "cell_type": "code",
   "execution_count": 14,
   "metadata": {
    "scrolled": false
   },
   "outputs": [
    {
     "name": "stdout",
     "output_type": "stream",
     "text": [
      "[[ 0.142857 -0.075188  0.022556]\n",
      " [-0.285714  0.518797 -0.255639]\n",
      " [ 0.142857 -0.285714  0.285714]]\n",
      "\n",
      " [[ 0.142857 -0.075188  0.022556]\n",
      " [-0.285714  0.518797 -0.255639]\n",
      " [ 0.142857 -0.285714  0.285714]]\n",
      "133.00000000000003\n",
      "\n",
      " 133.0\n",
      "array([[ 1.0000e+00, -1.6653e-16,  0.0000e+00],\n",
      "       [ 1.1102e-16,  1.0000e+00,  2.2204e-16],\n",
      "       [-2.7756e-17, -1.6653e-16,  1.0000e+00]])\n",
      "\n",
      "\n",
      "array([[ 1.0000e+00, -1.6653e-16,  0.0000e+00],\n",
      "       [ 1.1102e-16,  1.0000e+00,  2.2204e-16],\n",
      "       [-2.7756e-17, -1.6653e-16,  1.0000e+00]])\n",
      "\n",
      " True\n",
      "array([[ 1.0000e+00, -1.6653e-16,  0.0000e+00],\n",
      "       [ 1.1102e-16,  1.0000e+00,  2.2204e-16],\n",
      "       [-2.7756e-17, -1.6653e-16,  1.0000e+00]])\n",
      "\n",
      "\n",
      "array([[ 1.0000e+00, -1.6653e-16,  0.0000e+00],\n",
      "       [ 1.1102e-16,  1.0000e+00,  2.2204e-16],\n",
      "       [-2.7756e-17, -1.6653e-16,  1.0000e+00]])\n",
      "\n",
      "\n",
      "array([[ 1.0000e+00, -1.6653e-16,  0.0000e+00],\n",
      "       [ 1.1102e-16,  1.0000e+00,  2.2204e-16],\n",
      "       [-2.7756e-17, -1.6653e-16,  1.0000e+00]])\n",
      "\n",
      "\n",
      "[[ 1.4286 -0.1504  0.0226]\n",
      " [-1.7143  2.594  -1.0226]\n",
      " [ 0.1429 -1.1429  2.    ]]\n"
     ]
    }
   ],
   "source": [
    "A = np.array([[10., 2., 1.],\n",
    "                 [6., 5., 4.],\n",
    "                 [1., 4., 7.]])\n",
    "\n",
    "# the inverse of the matrix A - computed using a scipy algorithm\n",
    "print(sl.inv(A))\n",
    "\n",
    "# or via numpy\n",
    "print('\\n', np.linalg.inv(A))\n",
    "\n",
    "# see https://docs.scipy.org/doc/scipy/reference/tutorial/linalg.html \n",
    "# for comments on scipy.linalg vs numpy.linalg\n",
    "#sl.inv?\n",
    "\n",
    "# the determinant of the matrix A\n",
    "print(sl.det(A))\n",
    "\n",
    "# OR\n",
    "print('\\n', np.linalg.det(A))\n",
    "\n",
    "# it sometimes makes our life a bit easier if we don't always print out all \n",
    "# significant figures. We can do this in notebooks with \n",
    "%precision 4\n",
    "\n",
    "# Multiply A with its inverse using numpy's dot. Note that due to\n",
    "# roundoff errors the off diagonal values are not exactly zero.\n",
    "pprint(np.dot(A,sl.inv(A)))\n",
    "\n",
    "# print a blank line just to make output easier to read\n",
    "print('\\n')\n",
    "\n",
    "# check the result with the @ operator as well\n",
    "pprint(A @ sl.inv(A))\n",
    "\n",
    "# use allclose to confirm this is indeed the identity (to round-off)\n",
    "print('\\n', np.allclose(A @ sl.inv(A), np.eye(np.shape(A)[0])))\n",
    "\n",
    "\n",
    "# three ways to achieve the same thing\n",
    "pprint(np.dot(A,sl.inv(A)))\n",
    "print('\\n')\n",
    "pprint(A.dot(sl.inv(A)))\n",
    "print('\\n')\n",
    "pprint(A @ sl.inv(A))\n",
    "print('\\n')\n",
    "\n",
    "# and how not to do it.\n",
    "print(A*sl.inv(A))\n",
    "# note that the * operator simply does operations \"element-wise\"\n",
    "# which is not the same thing as matrix-matrix multiplication\n",
    "# (so * in numpy is the same as \".*\" in matlab)"
   ]
  },
  {
   "cell_type": "markdown",
   "metadata": {},
   "source": [
    "We can ignore the very small numbers which are due to floating point round-off errors - `np.allclose` can be used to confirm that these are indeed the identity matrix."
   ]
  },
  {
   "cell_type": "markdown",
   "metadata": {},
   "source": [
    "### Singular matrices\n",
    "\n",
    "If $|A|=0$ then $A$ is termed a [*singular matrix*](http://mathworld.wolfram.com/SingularMatrix.html) and it does not have an inverse.\n"
   ]
  },
  {
   "cell_type": "code",
   "execution_count": 15,
   "metadata": {
    "scrolled": false
   },
   "outputs": [
    {
     "name": "stdout",
     "output_type": "stream",
     "text": [
      "Marix A is singular:  True\n"
     ]
    }
   ],
   "source": [
    "# example from above\n",
    "A = np.array([[2., 3.], [4., 6.]])\n",
    "print('Marix A is singular: ', np.isclose(sl.det(A), 0.))"
   ]
  },
  {
   "cell_type": "markdown",
   "metadata": {},
   "source": [
    "What happens if we try to use SciPy to compute the inverse of a matrix with a zero (or very small) determinant?"
   ]
  },
  {
   "cell_type": "code",
   "execution_count": 16,
   "metadata": {
    "scrolled": true
   },
   "outputs": [
    {
     "ename": "LinAlgError",
     "evalue": "singular matrix",
     "output_type": "error",
     "traceback": [
      "\u001b[31m---------------------------------------------------------------------------\u001b[39m",
      "\u001b[31mLinAlgError\u001b[39m                               Traceback (most recent call last)",
      "\u001b[36mCell\u001b[39m\u001b[36m \u001b[39m\u001b[32mIn[16]\u001b[39m\u001b[32m, line 1\u001b[39m\n\u001b[32m----> \u001b[39m\u001b[32m1\u001b[39m \u001b[43msl\u001b[49m\u001b[43m.\u001b[49m\u001b[43minv\u001b[49m\u001b[43m(\u001b[49m\u001b[43mA\u001b[49m\u001b[43m)\u001b[49m\n",
      "\u001b[36mFile \u001b[39m\u001b[32m/opt/miniconda3/envs/devito/lib/python3.13/site-packages/scipy/linalg/_basic.py:1163\u001b[39m, in \u001b[36minv\u001b[39m\u001b[34m(a, overwrite_a, check_finite)\u001b[39m\n\u001b[32m   1161\u001b[39m     inv_a, info = getri(lu, piv, lwork=lwork, overwrite_lu=\u001b[32m1\u001b[39m)\n\u001b[32m   1162\u001b[39m \u001b[38;5;28;01mif\u001b[39;00m info > \u001b[32m0\u001b[39m:\n\u001b[32m-> \u001b[39m\u001b[32m1163\u001b[39m     \u001b[38;5;28;01mraise\u001b[39;00m LinAlgError(\u001b[33m\"\u001b[39m\u001b[33msingular matrix\u001b[39m\u001b[33m\"\u001b[39m)\n\u001b[32m   1164\u001b[39m \u001b[38;5;28;01mif\u001b[39;00m info < \u001b[32m0\u001b[39m:\n\u001b[32m   1165\u001b[39m     \u001b[38;5;28;01mraise\u001b[39;00m \u001b[38;5;167;01mValueError\u001b[39;00m(\u001b[33m'\u001b[39m\u001b[33millegal value in \u001b[39m\u001b[38;5;132;01m%d\u001b[39;00m\u001b[33m-th argument of internal \u001b[39m\u001b[33m'\u001b[39m\n\u001b[32m   1166\u001b[39m                      \u001b[33m'\u001b[39m\u001b[33mgetrf|getri\u001b[39m\u001b[33m'\u001b[39m % -info)\n",
      "\u001b[31mLinAlgError\u001b[39m: singular matrix"
     ]
    }
   ],
   "source": [
    "sl.inv(A)"
   ]
  },
  {
   "cell_type": "code",
   "execution_count": null,
   "metadata": {
    "scrolled": false
   },
   "outputs": [
    {
     "ename": "LinAlgError",
     "evalue": "Singular matrix",
     "output_type": "error",
     "traceback": [
      "\u001b[1;31m---------------------------------------------------------------------------\u001b[0m",
      "\u001b[1;31mLinAlgError\u001b[0m                               Traceback (most recent call last)",
      "\u001b[1;32m<ipython-input-16-ae645f97e1f8>\u001b[0m in \u001b[0;36m<module>\u001b[1;34m\u001b[0m\n\u001b[1;32m----> 1\u001b[1;33m \u001b[0mnp\u001b[0m\u001b[1;33m.\u001b[0m\u001b[0mlinalg\u001b[0m\u001b[1;33m.\u001b[0m\u001b[0minv\u001b[0m\u001b[1;33m(\u001b[0m\u001b[0mA\u001b[0m\u001b[1;33m)\u001b[0m\u001b[1;33m\u001b[0m\u001b[1;33m\u001b[0m\u001b[0m\n\u001b[0m",
      "\u001b[1;32m<__array_function__ internals>\u001b[0m in \u001b[0;36minv\u001b[1;34m(*args, **kwargs)\u001b[0m\n",
      "\u001b[1;32m~\\anaconda3\\lib\\site-packages\\numpy\\linalg\\linalg.py\u001b[0m in \u001b[0;36minv\u001b[1;34m(a)\u001b[0m\n\u001b[0;32m    543\u001b[0m     \u001b[0msignature\u001b[0m \u001b[1;33m=\u001b[0m \u001b[1;34m'D->D'\u001b[0m \u001b[1;32mif\u001b[0m \u001b[0misComplexType\u001b[0m\u001b[1;33m(\u001b[0m\u001b[0mt\u001b[0m\u001b[1;33m)\u001b[0m \u001b[1;32melse\u001b[0m \u001b[1;34m'd->d'\u001b[0m\u001b[1;33m\u001b[0m\u001b[1;33m\u001b[0m\u001b[0m\n\u001b[0;32m    544\u001b[0m     \u001b[0mextobj\u001b[0m \u001b[1;33m=\u001b[0m \u001b[0mget_linalg_error_extobj\u001b[0m\u001b[1;33m(\u001b[0m\u001b[0m_raise_linalgerror_singular\u001b[0m\u001b[1;33m)\u001b[0m\u001b[1;33m\u001b[0m\u001b[1;33m\u001b[0m\u001b[0m\n\u001b[1;32m--> 545\u001b[1;33m     \u001b[0mainv\u001b[0m \u001b[1;33m=\u001b[0m \u001b[0m_umath_linalg\u001b[0m\u001b[1;33m.\u001b[0m\u001b[0minv\u001b[0m\u001b[1;33m(\u001b[0m\u001b[0ma\u001b[0m\u001b[1;33m,\u001b[0m \u001b[0msignature\u001b[0m\u001b[1;33m=\u001b[0m\u001b[0msignature\u001b[0m\u001b[1;33m,\u001b[0m \u001b[0mextobj\u001b[0m\u001b[1;33m=\u001b[0m\u001b[0mextobj\u001b[0m\u001b[1;33m)\u001b[0m\u001b[1;33m\u001b[0m\u001b[1;33m\u001b[0m\u001b[0m\n\u001b[0m\u001b[0;32m    546\u001b[0m     \u001b[1;32mreturn\u001b[0m \u001b[0mwrap\u001b[0m\u001b[1;33m(\u001b[0m\u001b[0mainv\u001b[0m\u001b[1;33m.\u001b[0m\u001b[0mastype\u001b[0m\u001b[1;33m(\u001b[0m\u001b[0mresult_t\u001b[0m\u001b[1;33m,\u001b[0m \u001b[0mcopy\u001b[0m\u001b[1;33m=\u001b[0m\u001b[1;32mFalse\u001b[0m\u001b[1;33m)\u001b[0m\u001b[1;33m)\u001b[0m\u001b[1;33m\u001b[0m\u001b[1;33m\u001b[0m\u001b[0m\n\u001b[0;32m    547\u001b[0m \u001b[1;33m\u001b[0m\u001b[0m\n",
      "\u001b[1;32m~\\anaconda3\\lib\\site-packages\\numpy\\linalg\\linalg.py\u001b[0m in \u001b[0;36m_raise_linalgerror_singular\u001b[1;34m(err, flag)\u001b[0m\n\u001b[0;32m     86\u001b[0m \u001b[1;33m\u001b[0m\u001b[0m\n\u001b[0;32m     87\u001b[0m \u001b[1;32mdef\u001b[0m \u001b[0m_raise_linalgerror_singular\u001b[0m\u001b[1;33m(\u001b[0m\u001b[0merr\u001b[0m\u001b[1;33m,\u001b[0m \u001b[0mflag\u001b[0m\u001b[1;33m)\u001b[0m\u001b[1;33m:\u001b[0m\u001b[1;33m\u001b[0m\u001b[1;33m\u001b[0m\u001b[0m\n\u001b[1;32m---> 88\u001b[1;33m     \u001b[1;32mraise\u001b[0m \u001b[0mLinAlgError\u001b[0m\u001b[1;33m(\u001b[0m\u001b[1;34m\"Singular matrix\"\u001b[0m\u001b[1;33m)\u001b[0m\u001b[1;33m\u001b[0m\u001b[1;33m\u001b[0m\u001b[0m\n\u001b[0m\u001b[0;32m     89\u001b[0m \u001b[1;33m\u001b[0m\u001b[0m\n\u001b[0;32m     90\u001b[0m \u001b[1;32mdef\u001b[0m \u001b[0m_raise_linalgerror_nonposdef\u001b[0m\u001b[1;33m(\u001b[0m\u001b[0merr\u001b[0m\u001b[1;33m,\u001b[0m \u001b[0mflag\u001b[0m\u001b[1;33m)\u001b[0m\u001b[1;33m:\u001b[0m\u001b[1;33m\u001b[0m\u001b[1;33m\u001b[0m\u001b[0m\n",
      "\u001b[1;31mLinAlgError\u001b[0m: Singular matrix"
     ]
    }
   ],
   "source": [
    "np.linalg.inv(A)"
   ]
  },
  {
   "cell_type": "markdown",
   "metadata": {},
   "source": [
    "Remember - read the error message!"
   ]
  },
  {
   "cell_type": "markdown",
   "metadata": {},
   "source": [
    "# Summary\n",
    "\n",
    "\n",
    "- We have discussed more examples of inversion and closely related optimisation problems \n",
    "\n",
    "\n",
    "- We introduced a simple tomography example as a demonstration for where an under-determined problem might arise\n",
    "\n",
    "\n",
    "- We have reviewed some more linear algebra theory, mainly starting to think about the solvability of square systems - the aim here was to generate some insight that will be useful when considering non-square cases next.\n"
   ]
  },
  {
   "cell_type": "code",
   "execution_count": null,
   "metadata": {
    "scrolled": false
   },
   "outputs": [],
   "source": []
  }
 ],
 "metadata": {
  "celltoolbar": "Slideshow",
  "kernelspec": {
   "display_name": "devito",
   "language": "python",
   "name": "python3"
  },
  "language_info": {
   "codemirror_mode": {
    "name": "ipython",
    "version": 3
   },
   "file_extension": ".py",
   "mimetype": "text/x-python",
   "name": "python",
   "nbconvert_exporter": "python",
   "pygments_lexer": "ipython3",
   "version": "3.13.1"
  },
  "latex_envs": {
   "LaTeX_envs_menu_present": true,
   "autoclose": true,
   "autocomplete": true,
   "bibliofile": "biblio.bib",
   "cite_by": "apalike",
   "current_citInitial": 1,
   "eqLabelWithNumbers": true,
   "eqNumInitial": 1,
   "hotkeys": {
    "equation": "Ctrl-E",
    "itemize": "Ctrl-I"
   },
   "labels_anchors": false,
   "latex_user_defs": false,
   "report_style_numbering": false,
   "user_envs_cfg": true
  },
  "toc": {
   "base_numbering": 1,
   "nav_menu": {},
   "number_sections": true,
   "sideBar": true,
   "skip_h1_title": false,
   "title_cell": "Table of Contents",
   "title_sidebar": "Contents",
   "toc_cell": true,
   "toc_position": {},
   "toc_section_display": true,
   "toc_window_display": false
  }
 },
 "nbformat": 4,
 "nbformat_minor": 1
}
